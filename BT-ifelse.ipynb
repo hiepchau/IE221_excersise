{
 "cells": [
  {
   "attachments": {},
   "cell_type": "markdown",
   "id": "3181846b",
   "metadata": {},
   "source": [
    "# POINT"
   ]
  },
  {
   "cell_type": "code",
   "execution_count": 4,
   "id": "60687a0c",
   "metadata": {},
   "outputs": [
    {
     "name": "stdout",
     "output_type": "stream",
     "text": [
      "Học lực Kém\n"
     ]
    }
   ],
   "source": [
    "a = float(input(\"Nhap diem: \")) \n",
    "if (a >= 3.5) and (a < 5):\n",
    "    print(\"Học lực Yếu\")\n",
    "elif (a >= 5.0) and (a < 7):\n",
    "    print(\"Học lực Trung Bình\")\n",
    "elif (a >= 7.0) and (a < 8.0):\n",
    "    print(\"Học lực Khá\")\n",
    "elif (a >= 8.0) and (a < 9.0):\n",
    "    print(\"Học lực Giỏi\")\n",
    "elif (a >= 9.0) and (a < 10):\n",
    "    print(\"Học lực Xuất sắc\")\n",
    "else:\n",
    "    print(\"Học lực Kém\")"
   ]
  },
  {
   "attachments": {},
   "cell_type": "markdown",
   "id": "3cc53c15",
   "metadata": {},
   "source": [
    "# First degree equation"
   ]
  },
  {
   "cell_type": "code",
   "execution_count": null,
   "id": "ee9ac010",
   "metadata": {},
   "outputs": [
    {
     "name": "stdout",
     "output_type": "stream",
     "text": [
      "Nhap a: 0\n",
      "Nhap b: 0\n",
      "Vô số nghiệm\n"
     ]
    }
   ],
   "source": [
    "a = int(input(\"Nhap a: \")) \n",
    "b = int(input(\"Nhap b: \")) \n",
    "if a == 0 :\n",
    "    if b == 0:\n",
    "        print(\"Vô số nghiệm\")\n",
    "    else:\n",
    "        print(\"Vô nghiệm\")\n",
    "else:\n",
    "    print(\"x = \", -b/a)"
   ]
  },
  {
   "attachments": {},
   "cell_type": "markdown",
   "id": "198ef7b4",
   "metadata": {},
   "source": [
    "# Quadratic"
   ]
  },
  {
   "cell_type": "code",
   "execution_count": null,
   "id": "eb4db914",
   "metadata": {},
   "outputs": [],
   "source": [
    "a = int(input(\"Nhap a: \")) \n",
    "b = int(input(\"Nhap b: \")) \n",
    "c = int(input(\"Nhap c: \")) \n",
    "\n",
    "delta = pow(b, 2) - 4 * a * c\n",
    "\n",
    "if a == 0 :\n",
    "    if b == 0:\n",
    "        print(\"Vô số nghiệm\")\n",
    "    else:\n",
    "        print(\"x1 = x2 = \", -c/b)\n",
    "else:\n",
    "    if delta == 0:\n",
    "        print(\"x1 = x2 = \", -b/(a*2))\n",
    "    elif delta > 0:\n",
    "        print(\"x1 = \", (-b + pow(delta, 1/2))/(a*2))\n",
    "    else:\n",
    "        print(\"Vô nghiệm\")"
   ]
  },
  {
   "attachments": {},
   "cell_type": "markdown",
   "id": "3e497781",
   "metadata": {},
   "source": [
    "# Check valid triangle"
   ]
  },
  {
   "cell_type": "code",
   "execution_count": 2,
   "id": "ba9b14e9",
   "metadata": {},
   "outputs": [
    {
     "name": "stdout",
     "output_type": "stream",
     "text": [
      "3 cạnh a b c thuộc 1 tam giác\n"
     ]
    }
   ],
   "source": [
    "a = float(input(\"Nhập a: \"))\n",
    "b = float(input(\"Nhập b: \"))\n",
    "c = float(input(\"Nhập c: \"))\n",
    "\n",
    "if a + b > c and a + c > b and b + c > a:\n",
    "    print(\"3 cạnh a b c thuộc 1 tam giác\")\n",
    "else:\n",
    "    print(\"3 cạnh a b c không thuộc 1 tam giác\")\n"
   ]
  },
  {
   "attachments": {},
   "cell_type": "markdown",
   "id": "18d1e770",
   "metadata": {},
   "source": [
    "# Check type triangle"
   ]
  },
  {
   "cell_type": "code",
   "execution_count": 1,
   "id": "9ea81a0d",
   "metadata": {},
   "outputs": [
    {
     "name": "stdout",
     "output_type": "stream",
     "text": [
      "Ba cạnh vừa nhập không tạo thành một tam giác\n"
     ]
    }
   ],
   "source": [
    "from math import isclose, sqrt\n",
    "\n",
    "def classify_triangle(a: float, b: float, c: float) -> str:\n",
    "    if isclose(a, b) and isclose(b, c):\n",
    "        return \"Tam giác đều\"\n",
    "    elif isclose(a, c) or isclose(b, c) or isclose(a, b):\n",
    "        return \"Tam giác cân\"\n",
    "    elif isclose(sqrt(pow(a, 2) + pow(b, 2)), c) or isclose(sqrt(pow(b, 2) + pow(c, 2)), a) or isclose(sqrt(pow(a, 2) + pow(c, 2)), b):\n",
    "        return \"Tam giác vuông\"\n",
    "    else:\n",
    "        return \"Tam giác thường\"\n",
    "\n",
    "def main():\n",
    "    a = float(input(\"Nhập a: \"))\n",
    "    b = float(input(\"Nhập b: \"))\n",
    "    c = float(input(\"Nhập c: \"))\n",
    "\n",
    "    if a <= 0 or b <= 0 or c <= 0:\n",
    "        print(\"Độ dài các cạnh phải là số dương\")\n",
    "    elif a + b <= c or a + c <= b or b + c <= a:\n",
    "        print(\"Ba cạnh vừa nhập không tạo thành một tam giác\")\n",
    "    else:\n",
    "        print(classify_triangle(a, b, c))\n",
    "\n",
    "if __name__ == \"__main__\":\n",
    "    main()\n"
   ]
  },
  {
   "attachments": {},
   "cell_type": "markdown",
   "id": "fa48ed60",
   "metadata": {},
   "source": [
    "# Check valid date I"
   ]
  },
  {
   "cell_type": "code",
   "execution_count": 1,
   "id": "eb5ea1ff",
   "metadata": {},
   "outputs": [
    {
     "name": "stdout",
     "output_type": "stream",
     "text": [
      "Ngay 30/02/2022 nhap vao khong hop le.\n"
     ]
    }
   ],
   "source": [
    "def checkDaysInMonth(month, year) -> int:\n",
    "    if month > 0 and month <= 12:\n",
    "        days_in_month = {\n",
    "            2: 29 if year % 400 == 0 or (year % 4 == 0 and year % 100 != 0) else 28,\n",
    "            4: 30,\n",
    "            6: 30,\n",
    "            9: 30,\n",
    "            11: 30,\n",
    "        }\n",
    "        return days_in_month.get(month, 31)\n",
    "    else:\n",
    "        return 0\n",
    "    \n",
    "def checkDate(day, month, year):\n",
    "    if not (1 <= month <= 12):\n",
    "        return False\n",
    "    elif not (1 <= day <= checkDaysInMonth(month, year)):\n",
    "        return False\n",
    "    else:\n",
    "        return True\n",
    "\n",
    "def main():\n",
    "    inputdate = input(\"Nhap ngay theo dinh dang dd/mm/yyyy: \")\n",
    "    day, month, year = map(int, inputdate.split('/'))\n",
    "\n",
    "    if not (1 <= day <= 31):\n",
    "        print(\"Ngay khong hop le.\")\n",
    "    elif not (1 <= month <= 12):\n",
    "        print(\"Thang khong hop le.\")\n",
    "    elif year < 0:\n",
    "        print(\"Nam khong hop le.\")\n",
    "    elif checkDate(day, month, year):\n",
    "        print(f\"Ngay {inputdate} hop le.\")\n",
    "    else:\n",
    "        print(f\"Ngay {inputdate} nhap vao khong hop le.\")\n",
    "\n",
    "main()\n"
   ]
  },
  {
   "attachments": {},
   "cell_type": "markdown",
   "id": "5e58f920",
   "metadata": {},
   "source": [
    "# Check valid date II"
   ]
  },
  {
   "cell_type": "code",
   "execution_count": 3,
   "id": "73a9bf82",
   "metadata": {},
   "outputs": [
    {
     "name": "stdout",
     "output_type": "stream",
     "text": [
      "Ngay 29:02:2024 hop le.\n"
     ]
    }
   ],
   "source": [
    "def checkDaysInMonth(month, year) -> int:\n",
    "    if month > 0 and month <= 12:\n",
    "        days_in_month = {\n",
    "            2: 29 if year % 400 == 0 or (year % 4 == 0 and year % 100 != 0) else 28,\n",
    "            4: 30,\n",
    "            6: 30,\n",
    "            9: 30,\n",
    "            11: 30,\n",
    "        }\n",
    "        return days_in_month.get(month, 31)\n",
    "    else:\n",
    "        return 0\n",
    "    \n",
    "def checkDate(day, month, year):\n",
    "    if not (1 <= month <= 12):\n",
    "        return False\n",
    "    elif not (1 <= day <= checkDaysInMonth(month, year)):\n",
    "        return False\n",
    "    else:\n",
    "        return True\n",
    "\n",
    "def main():\n",
    "    inputdate = input(\"Nhap ngay theo dinh dang dd/mm/yyyy: \")\n",
    "    day, month, year = map(int, inputdate.split(':'))\n",
    "\n",
    "    if not (1 <= day <= 31):\n",
    "        print(\"Ngay khong hop le.\")\n",
    "    elif not (1 <= month <= 12):\n",
    "        print(\"Thang khong hop le.\")\n",
    "    elif year < 0:\n",
    "        print(\"Nam khong hop le.\")\n",
    "    elif checkDate(day, month, year):\n",
    "        print(f\"Ngay {inputdate} hop le.\")\n",
    "    else:\n",
    "        print(f\"Ngay {inputdate} nhap vao khong hop le.\")\n",
    "\n",
    "main()\n"
   ]
  }
 ],
 "metadata": {
  "kernelspec": {
   "display_name": "Python 3 (ipykernel)",
   "language": "python",
   "name": "python3"
  },
  "language_info": {
   "codemirror_mode": {
    "name": "ipython",
    "version": 3
   },
   "file_extension": ".py",
   "mimetype": "text/x-python",
   "name": "python",
   "nbconvert_exporter": "python",
   "pygments_lexer": "ipython3",
   "version": "3.11.2"
  }
 },
 "nbformat": 4,
 "nbformat_minor": 5
}
