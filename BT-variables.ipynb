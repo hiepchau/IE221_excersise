{
 "cells": [
  {
   "cell_type": "markdown",
   "id": "49f27eeb",
   "metadata": {},
   "source": [
    "# DateTime"
   ]
  },
  {
   "cell_type": "code",
   "execution_count": 3,
   "id": "2c25b5b4",
   "metadata": {},
   "outputs": [
    {
     "name": "stdout",
     "output_type": "stream",
     "text": [
      "2023-03-10 08:54:03.491906\n"
     ]
    }
   ],
   "source": [
    "import datetime\n",
    "now = datetime.datetime.now()\n",
    "print(now)"
   ]
  },
  {
   "cell_type": "code",
   "execution_count": 4,
   "id": "0c3147c6",
   "metadata": {},
   "outputs": [
    {
     "name": "stdout",
     "output_type": "stream",
     "text": [
      "2023-03-10\n"
     ]
    }
   ],
   "source": [
    "import datetime\n",
    "now = datetime.date.today()\n",
    "print(now)"
   ]
  },
  {
   "cell_type": "code",
   "execution_count": 5,
   "id": "6bc418e0",
   "metadata": {},
   "outputs": [
    {
     "name": "stdout",
     "output_type": "stream",
     "text": [
      "2022-12-25\n"
     ]
    }
   ],
   "source": [
    "import datetime\n",
    "\n",
    "day = datetime.date(2022, 12, 25)\n",
    "print(day)"
   ]
  },
  {
   "cell_type": "code",
   "execution_count": 6,
   "id": "83b09ffc",
   "metadata": {},
   "outputs": [
    {
     "name": "stdout",
     "output_type": "stream",
     "text": [
      "2022-12-25\n"
     ]
    }
   ],
   "source": [
    "from datetime import date\n",
    "\n",
    "d = date(2022, 12, 25)\n",
    "print(d)"
   ]
  },
  {
   "cell_type": "code",
   "execution_count": 7,
   "id": "6c076f97",
   "metadata": {},
   "outputs": [
    {
     "name": "stdout",
     "output_type": "stream",
     "text": [
      "Today's date = 2023-03-09\n"
     ]
    }
   ],
   "source": [
    "from datetime import date\n",
    "\n",
    "todays_date = date.today()\n",
    "\n",
    "print(\"Today's date =\", todays_date)"
   ]
  },
  {
   "cell_type": "code",
   "execution_count": 8,
   "id": "1fb64c59",
   "metadata": {},
   "outputs": [
    {
     "name": "stdout",
     "output_type": "stream",
     "text": [
      "Date = 2012-01-11\n"
     ]
    }
   ],
   "source": [
    "from datetime import date\n",
    "\n",
    "timestamp = date.fromtimestamp(1326244364)\n",
    "print(\"Date =\", timestamp)"
   ]
  },
  {
   "cell_type": "code",
   "execution_count": 9,
   "id": "ab986bce",
   "metadata": {},
   "outputs": [
    {
     "name": "stdout",
     "output_type": "stream",
     "text": [
      "Current year: 2023\n",
      "Current month: 3\n",
      "Current day: 9\n"
     ]
    }
   ],
   "source": [
    "from datetime import date\n",
    "\n",
    "today = date.today() \n",
    "\n",
    "print(\"Current year:\", today.year)\n",
    "print(\"Current month:\", today.month)\n",
    "print(\"Current day:\", today.day)"
   ]
  },
  {
   "cell_type": "code",
   "execution_count": 10,
   "id": "acd0c470",
   "metadata": {},
   "outputs": [
    {
     "name": "stdout",
     "output_type": "stream",
     "text": [
      "00:00:00\n",
      "11:34:56\n",
      "11:34:56\n",
      "11:34:56.234566\n"
     ]
    }
   ],
   "source": [
    "from datetime import time\n",
    "\n",
    "# time(hour = 0, minute = 0, second = 0)\n",
    "a = time()\n",
    "print(a)\n",
    "\n",
    "# time(hour, minute and second)\n",
    "b = time(11, 34, 56)\n",
    "print(b)\n",
    "\n",
    "# time(hour, minute and second)\n",
    "c = time(hour = 11, minute = 34, second = 56)\n",
    "print(c)\n",
    "\n",
    "# time(hour, minute, second, microsecond)\n",
    "d = time(11, 34, 56, 234566)\n",
    "print(d)"
   ]
  },
  {
   "cell_type": "code",
   "execution_count": 11,
   "id": "1c011f38",
   "metadata": {},
   "outputs": [
    {
     "name": "stdout",
     "output_type": "stream",
     "text": [
      "Hour = 11\n",
      "Minute = 34\n",
      "Second = 56\n",
      "Microsecond = 0\n"
     ]
    }
   ],
   "source": [
    "from datetime import time\n",
    "\n",
    "a = time(11, 34, 56)\n",
    "\n",
    "print(\"Hour =\", a.hour)\n",
    "print(\"Minute =\", a.minute)\n",
    "print(\"Second =\", a.second)\n",
    "print(\"Microsecond =\", a.microsecond)"
   ]
  },
  {
   "cell_type": "code",
   "execution_count": 12,
   "id": "88b6bdc1",
   "metadata": {},
   "outputs": [
    {
     "name": "stdout",
     "output_type": "stream",
     "text": [
      "2022-12-28 00:00:00\n",
      "2022-12-28 23:55:59.342380\n"
     ]
    }
   ],
   "source": [
    "from datetime import datetime\n",
    "\n",
    "# datetime(year, month, day)\n",
    "a = datetime(2022, 12, 28)\n",
    "print(a)\n",
    "\n",
    "# datetime(year, month, day, hour, minute, second, microsecond)\n",
    "b = datetime(2022, 12, 28, 23, 55, 59, 342380)\n",
    "print(b)"
   ]
  },
  {
   "cell_type": "code",
   "execution_count": 13,
   "id": "9854b83e",
   "metadata": {},
   "outputs": [
    {
     "name": "stdout",
     "output_type": "stream",
     "text": [
      "t3 = 201 days, 0:00:00\n",
      "t6 = -333 days, 1:14:20\n",
      "Type of t3 = <class 'datetime.timedelta'>\n",
      "Type of t6 = <class 'datetime.timedelta'>\n"
     ]
    }
   ],
   "source": [
    "from datetime import datetime, date\n",
    "\n",
    "# using date()\n",
    "t1 = date(year = 2018, month = 7, day = 12)\n",
    "t2 = date(year = 2017, month = 12, day = 23)\n",
    "\n",
    "t3 = t1 - t2\n",
    "\n",
    "print(\"t3 =\", t3)\n",
    "\n",
    "# using datetime()\n",
    "t4 = datetime(year = 2018, month = 7, day = 12, hour = 7, minute = 9, second = 33)\n",
    "t5 = datetime(year = 2019, month = 6, day = 10, hour = 5, minute = 55, second = 13)\n",
    "t6 = t4 - t5\n",
    "print(\"t6 =\", t6)\n",
    "\n",
    "print(\"Type of t3 =\", type(t3)) \n",
    "print(\"Type of t6 =\", type(t6)) "
   ]
  },
  {
   "cell_type": "code",
   "execution_count": 14,
   "id": "e09867af",
   "metadata": {},
   "outputs": [
    {
     "name": "stdout",
     "output_type": "stream",
     "text": [
      "t3 = 14 days, 13:55:39\n"
     ]
    }
   ],
   "source": [
    "from datetime import timedelta\n",
    "\n",
    "t1 = timedelta(weeks = 2, days = 5, hours = 1, seconds = 33)\n",
    "t2 = timedelta(days = 4, hours = 11, minutes = 4, seconds = 54)\n",
    "\n",
    "t3 = t1 - t2\n",
    "\n",
    "print(\"t3 =\", t3)"
   ]
  },
  {
   "cell_type": "code",
   "execution_count": 15,
   "id": "598130d3",
   "metadata": {},
   "outputs": [
    {
     "name": "stdout",
     "output_type": "stream",
     "text": [
      "Total seconds = 435633.233423\n"
     ]
    }
   ],
   "source": [
    "from datetime import timedelta\n",
    "\n",
    "t = timedelta(days = 5, hours = 1, seconds = 33, microseconds = 233423)\n",
    "print(\"Total seconds =\", t.total_seconds())"
   ]
  },
  {
   "cell_type": "code",
   "execution_count": 16,
   "id": "adfd033d",
   "metadata": {},
   "outputs": [
    {
     "name": "stdout",
     "output_type": "stream",
     "text": [
      "Time: 18:01:08\n",
      "s1: 03/09/2023, 18:01:08\n",
      "s2: 09/03/2023, 18:01:08\n"
     ]
    }
   ],
   "source": [
    "from datetime import datetime\n",
    "\n",
    "# current date and time\n",
    "now = datetime.now()\n",
    "\n",
    "t = now.strftime(\"%H:%M:%S\")\n",
    "print(\"Time:\", t)\n",
    "\n",
    "s1 = now.strftime(\"%m/%d/%Y, %H:%M:%S\")\n",
    "# mm/dd/YY H:M:S format\n",
    "print(\"s1:\", s1)\n",
    "\n",
    "s2 = now.strftime(\"%d/%m/%Y, %H:%M:%S\")\n",
    "# dd/mm/YY H:M:S format\n",
    "print(\"s2:\", s2)"
   ]
  },
  {
   "cell_type": "code",
   "execution_count": 17,
   "id": "b6bd90c1",
   "metadata": {},
   "outputs": [
    {
     "name": "stdout",
     "output_type": "stream",
     "text": [
      "date_string = 25 December, 2022\n",
      "date_object = 2022-12-25 00:00:00\n"
     ]
    }
   ],
   "source": [
    "from datetime import datetime\n",
    "\n",
    "date_string = \"25 December, 2022\"\n",
    "print(\"date_string =\", date_string)\n",
    "\n",
    "# use strptime() to create date object\n",
    "date_object = datetime.strptime(date_string, \"%d %B, %Y\")\n",
    "\n",
    "print(\"date_object =\", date_object)"
   ]
  },
  {
   "cell_type": "code",
   "execution_count": 18,
   "id": "1f5b1f47",
   "metadata": {},
   "outputs": [
    {
     "name": "stdout",
     "output_type": "stream",
     "text": [
      "Local: 03/09/2023, 18:01:51\n",
      "NY: 03/09/2023, 06:01:51\n",
      "London: 03/09/2023, 11:01:51\n"
     ]
    }
   ],
   "source": [
    "from datetime import datetime\n",
    "import pytz\n",
    "\n",
    "local = datetime.now()\n",
    "print(\"Local:\", local.strftime(\"%m/%d/%Y, %H:%M:%S\"))\n",
    "\n",
    "\n",
    "tz_NY = pytz.timezone('America/New_York') \n",
    "datetime_NY = datetime.now(tz_NY)\n",
    "print(\"NY:\", datetime_NY.strftime(\"%m/%d/%Y, %H:%M:%S\"))\n",
    "\n",
    "tz_London = pytz.timezone('Europe/London')\n",
    "datetime_London = datetime.now(tz_London)\n",
    "print(\"London:\", datetime_London.strftime(\"%m/%d/%Y, %H:%M:%S\"))"
   ]
  },
  {
   "cell_type": "markdown",
   "id": "88415e4e",
   "metadata": {},
   "source": [
    "# Decimal"
   ]
  },
  {
   "cell_type": "code",
   "execution_count": 19,
   "id": "09170d56",
   "metadata": {},
   "outputs": [
    {
     "name": "stdout",
     "output_type": "stream",
     "text": [
      "The exponent of decimal number is : 90.01713130052181355011545675\n",
      "The square root of decimal number is : 2.121320343559642573202533086\n"
     ]
    }
   ],
   "source": [
    "import decimal\n",
    " \n",
    "# using exp() to compute the exponent of decimal number\n",
    "a = decimal.Decimal(4.5).exp()\n",
    " \n",
    "# using sqrt() to compute the square root of decimal number\n",
    "b = decimal.Decimal(4.5).sqrt()\n",
    " \n",
    "# printing the exponent\n",
    "print (\"The exponent of decimal number is : \",end=\"\")\n",
    "print (a)\n",
    " \n",
    "# printing the square root\n",
    "print (\"The square root of decimal number is : \",end=\"\")\n",
    "print (b)"
   ]
  },
  {
   "cell_type": "code",
   "execution_count": 20,
   "id": "1d9d74fc",
   "metadata": {},
   "outputs": [
    {
     "name": "stdout",
     "output_type": "stream",
     "text": [
      "The natural logarithm of decimal number is : 1.504077396776274073373258352\n",
      "The log(base 10) of decimal number is : 0.6532125137753436793763169118\n"
     ]
    }
   ],
   "source": [
    "import decimal\n",
    " \n",
    "# using ln() to compute the natural log of decimal number\n",
    "a = decimal.Decimal(4.5).ln()\n",
    " \n",
    "# using sqrt() to compute the log10 of decimal number\n",
    "b = decimal.Decimal(4.5).log10()\n",
    " \n",
    "# printing the natural logarithm\n",
    "print (\"The natural logarithm of decimal number is : \",end=\"\")\n",
    "print (a)\n",
    " \n",
    "# printing the log10\n",
    "print (\"The log(base 10) of decimal number is : \",end=\"\")\n",
    "print (b)"
   ]
  },
  {
   "cell_type": "code",
   "execution_count": 21,
   "id": "da691a3a",
   "metadata": {},
   "outputs": [
    {
     "name": "stdout",
     "output_type": "stream",
     "text": [
      "The tuple form of decimal number is : DecimalTuple(sign=1, digits=(4, 5), exponent=-1)\n",
      "The fused multiply and addition of decimal number is : 13\n"
     ]
    }
   ],
   "source": [
    "import decimal\n",
    " \n",
    "a = decimal.Decimal(-4.5).as_tuple()\n",
    " \n",
    "b = decimal.Decimal(5).fma(2,3)\n",
    " \n",
    "print (\"The tuple form of decimal number is : \",end=\"\")\n",
    "print (a)\n",
    " \n",
    "print (\"The fused multiply and addition of decimal number is : \",end=\"\")\n",
    "print (b)"
   ]
  },
  {
   "cell_type": "code",
   "execution_count": 22,
   "id": "30018adf",
   "metadata": {},
   "outputs": [
    {
     "name": "stdout",
     "output_type": "stream",
     "text": [
      "The result of comparison using compare() is : 1\n",
      "The result of comparison using compare_total_mag() is : -1\n"
     ]
    }
   ],
   "source": [
    "import decimal\n",
    " \n",
    "a = decimal.Decimal(9.53)\n",
    " \n",
    "b = decimal.Decimal(-9.56)\n",
    " \n",
    "print (\"The result of comparison using compare() is : \",end=\"\")\n",
    "print (a.compare(b))\n",
    " \n",
    "print (\"The result of comparison using compare_total_mag() is : \",end=\"\")\n",
    "print (a.compare_total_mag(b))"
   ]
  },
  {
   "cell_type": "code",
   "execution_count": 23,
   "id": "0738a6c1",
   "metadata": {},
   "outputs": [
    {
     "name": "stdout",
     "output_type": "stream",
     "text": [
      "The absolute value using copy_abs() is : 9.5600000000000004973799150320701301097869873046875\n",
      "The negated value using copy_negate() is : 9.5600000000000004973799150320701301097869873046875\n",
      "The sign effected value using copy_sign() is : -9.5299999999999993605115378159098327159881591796875\n"
     ]
    }
   ],
   "source": [
    "import decimal\n",
    " \n",
    "a = decimal.Decimal(9.53)\n",
    " \n",
    "b = decimal.Decimal(-9.56)\n",
    " \n",
    "print (\"The absolute value using copy_abs() is : \",end=\"\")\n",
    "print (b.copy_abs())\n",
    " \n",
    "print (\"The negated value using copy_negate() is : \",end=\"\")\n",
    "print (b.copy_negate())\n",
    " \n",
    "print (\"The sign effected value using copy_sign() is : \",end=\"\")\n",
    "print (a.copy_sign(b))"
   ]
  },
  {
   "cell_type": "code",
   "execution_count": 24,
   "id": "3eb96664",
   "metadata": {},
   "outputs": [
    {
     "name": "stdout",
     "output_type": "stream",
     "text": [
      "The minimum of two numbers is : 7.429999999999999715782905696\n",
      "The maximum of two numbers is : 9.529999999999999360511537816\n"
     ]
    }
   ],
   "source": [
    "import decimal\n",
    " \n",
    "a = decimal.Decimal(12.22)\n",
    " \n",
    "b = decimal.Decimal(10.11)\n",
    " \n",
    "print (\"Minimum : \",end=\"\")\n",
    "print (a.min(b))\n",
    " \n",
    "print (\"Maxium: \",end=\"\")\n",
    "print (a.max(b))"
   ]
  },
  {
   "cell_type": "markdown",
   "id": "fff57378",
   "metadata": {},
   "source": [
    "# Fraction"
   ]
  },
  {
   "cell_type": "code",
   "execution_count": 25,
   "id": "62a5f196",
   "metadata": {},
   "outputs": [
    {
     "name": "stdout",
     "output_type": "stream",
     "text": [
      "11/35\n",
      "5/9\n",
      "0\n"
     ]
    }
   ],
   "source": [
    "from fractions import Fraction\n",
    "  \n",
    "print (Fraction(10, 100))\n",
    "  \n",
    "print (Fraction(12, 20))\n",
    " \n",
    "print (Fraction())"
   ]
  },
  {
   "cell_type": "code",
   "execution_count": 26,
   "id": "f187bc4f",
   "metadata": {},
   "outputs": [
    {
     "name": "stdout",
     "output_type": "stream",
     "text": [
      "1272266894732165/1125899906842624\n"
     ]
    }
   ],
   "source": [
    "from fractions import Fraction\n",
    " \n",
    "print (Fraction(1.13))"
   ]
  },
  {
   "cell_type": "code",
   "execution_count": 27,
   "id": "d3d4e23e",
   "metadata": {},
   "outputs": [
    {
     "name": "stdout",
     "output_type": "stream",
     "text": [
      "113/100\n"
     ]
    }
   ],
   "source": [
    "from fractions import Fraction\n",
    " \n",
    "print (Fraction('1.13'))"
   ]
  },
  {
   "cell_type": "code",
   "execution_count": 28,
   "id": "b0da5a47",
   "metadata": {},
   "outputs": [
    {
     "name": "stdout",
     "output_type": "stream",
     "text": [
      "8/25\n",
      "113/100\n",
      "3/7\n",
      "1414213/1000000\n"
     ]
    }
   ],
   "source": [
    "from fractions import Fraction\n",
    "  \n",
    "print (Fraction('1/25'))\n",
    "  \n",
    "print (Fraction('3.23'))\n",
    " \n",
    "print (Fraction('33/7'))\n",
    " \n",
    "print (Fraction('1.414213 \\t\\n'))"
   ]
  },
  {
   "cell_type": "code",
   "execution_count": 29,
   "id": "97bffbf9",
   "metadata": {},
   "outputs": [
    {
     "name": "stdout",
     "output_type": "stream",
     "text": [
      "2267/900\n",
      "2\n",
      "288/95\n",
      "3/2\n",
      "2.8592589556010197\n"
     ]
    }
   ],
   "source": [
    "from fractions import Fraction\n",
    "  \n",
    "print (Fraction(1113, 100) + Fraction(118, 10))\n",
    "  \n",
    "print (Fraction(182, 6) / Fraction(118, 10))\n",
    "  \n",
    "print (Fraction(128, 6) * Fraction(118, 10))\n",
    "  \n",
    "print (Fraction(182, 2) * Fraction(118, 10))\n",
    "  \n",
    "print (Fraction(122, 63) ** Fraction(118, 10))"
   ]
  },
  {
   "cell_type": "code",
   "execution_count": null,
   "id": "7e49f314",
   "metadata": {},
   "outputs": [],
   "source": [
    "import math\n",
    "from fractions import Fraction\n",
    "  \n",
    "print (math.sqrt(Fraction(21, 4)))\n",
    "  \n",
    "print (math.sqrt(Fraction(300,3)))\n",
    "  \n",
    "print (math.floor(Fraction(1258, 12213)))\n",
    "  \n",
    "print (Fraction(math.sin(math.pi/2)))\n",
    "  \n",
    "print (Fraction(math.sin(math.pi/4)).limit_denominator(100))"
   ]
  }
 ],
 "metadata": {
  "kernelspec": {
   "display_name": "Python 3 (ipykernel)",
   "language": "python",
   "name": "python3"
  },
  "language_info": {
   "codemirror_mode": {
    "name": "ipython",
    "version": 3
   },
   "file_extension": ".py",
   "mimetype": "text/x-python",
   "name": "python",
   "nbconvert_exporter": "python",
   "pygments_lexer": "ipython3",
   "version": "3.11.2"
  }
 },
 "nbformat": 4,
 "nbformat_minor": 5
}
