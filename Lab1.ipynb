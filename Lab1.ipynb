{
 "cells": [
  {
   "cell_type": "markdown",
   "id": "ea6ae5be",
   "metadata": {},
   "source": [
    "Họ tên: Trần Hữu Trí\n",
    "STT: 20520327"
   ]
  },
  {
   "cell_type": "markdown",
   "id": "2dd12829",
   "metadata": {},
   "source": [
    "# Bài 1. Viết chương trình nhập vào 4 số nguyên a, b, c, d và tính trung bình cộng của 4 số."
   ]
  },
  {
   "cell_type": "code",
   "execution_count": 4,
   "id": "afd2ee5d",
   "metadata": {},
   "outputs": [
    {
     "name": "stdout",
     "output_type": "stream",
     "text": [
      "Nhập a: 1\n",
      "Nhập b: 2\n",
      "Nhập c: 3\n",
      "Nhập d: 4\n",
      "Trung bình cộng của 4 số:  2.5\n"
     ]
    }
   ],
   "source": [
    "a=int(input(\"Nhập a: \"))\n",
    "b=int(input(\"Nhập b: \"))\n",
    "c=int(input(\"Nhập c: \"))\n",
    "d=int(input(\"Nhập d: \"))\n",
    "rs = (a+b+c+d)/4\n",
    "print(\"Trung bình cộng của 4 số: \",rs)"
   ]
  },
  {
   "cell_type": "markdown",
   "id": "930be4ca",
   "metadata": {},
   "source": [
    "# Bài 2. Nhập 2 số nguyên a, b.Tính tổng, hiệu, tích, thương và in kết quả làm tròn tới 2, 3 chữ số sau dấu chấm phẩy."
   ]
  },
  {
   "cell_type": "code",
   "execution_count": 5,
   "id": "64ee8717",
   "metadata": {},
   "outputs": [
    {
     "name": "stdout",
     "output_type": "stream",
     "text": [
      "Nhập a: 1\n",
      "Nhập b: 2\n",
      "a+b= 3.0\n",
      "a-b= -1.0\n",
      "a*b= 2.0\n",
      "a/b= 0.5\n"
     ]
    }
   ],
   "source": [
    "a=float(input(\"Nhập a: \"))\n",
    "b=float(input(\"Nhập b: \"))\n",
    "print(\"a+b=\",a+b)\n",
    "print(\"a-b=\",a-b)\n",
    "print(\"a*b=\",a*b)\n",
    "print(\"a/b=\",round((a/b),3))"
   ]
  },
  {
   "cell_type": "markdown",
   "id": "98a3e5aa",
   "metadata": {},
   "source": [
    "# Bài 3. Nhập 2 số nguyên dương a, b, cho biết kết quả chia lấy phần nguyên và phần dư của a với b."
   ]
  },
  {
   "cell_type": "code",
   "execution_count": 8,
   "id": "18cdf3a8",
   "metadata": {},
   "outputs": [
    {
     "name": "stdout",
     "output_type": "stream",
     "text": [
      "Nhập a: 1\n",
      "Nhập b: 2\n",
      "Phần nguyên của a/b:  0\n",
      "Phần dư của a/b:  1\n"
     ]
    }
   ],
   "source": [
    "a=int(input(\"Nhập a: \"))\n",
    "b=int(input(\"Nhập b: \"))\n",
    "print(\"Phần nguyên của a/b: \",int(a/b))\n",
    "print(\"Phần dư của a/b: \",a%b)"
   ]
  },
  {
   "cell_type": "markdown",
   "id": "fcb5e9cb",
   "metadata": {},
   "source": [
    "# Bài 4. Viết chương trình cho phép nhập vào số nguyên dương N có 2 chữ số. Xuất ra màn hình tổng các chữ số của N. Ví dụ: Nhập N=48, kết quả xuất ra màn hình là 4 + 8 = 12"
   ]
  },
  {
   "cell_type": "code",
   "execution_count": 13,
   "id": "3cf967cb",
   "metadata": {},
   "outputs": [
    {
     "name": "stdout",
     "output_type": "stream",
     "text": [
      "Nhập a và b: 48\n",
      "Kết quả là:  12\n"
     ]
    }
   ],
   "source": [
    "a=int(input(\"Nhập a và b: \"))\n",
    "tmp2 = a%10\n",
    "tmp1 = int(a/10)\n",
    "print(\"Kết quả là: \",tmp1+tmp2)"
   ]
  },
  {
   "cell_type": "markdown",
   "id": "0409aba3",
   "metadata": {},
   "source": [
    "# Bài 5. Viết chương trình cho phép nhập vào giờ, phút và giây theo định dạng hh:mm:ss. Hãy đổi ra giấy và in kết quả ra màn hình."
   ]
  },
  {
   "cell_type": "code",
   "execution_count": 17,
   "id": "4b25cace",
   "metadata": {},
   "outputs": [
    {
     "name": "stdout",
     "output_type": "stream",
     "text": [
      "Nhập vào giờ, phút và giây theo định dạng hh:mm:ss: 1:1:1\n",
      "Số giây là:  3661\n"
     ]
    }
   ],
   "source": [
    "s = input(\"Nhập vào giờ, phút và giây theo định dạng hh:mm:ss: \")\n",
    "d = s.split(':')\n",
    "h = int(d[0])\n",
    "m = int(d[1])\n",
    "s = int(d[2])\n",
    "print(\"Số giây là: \",((h*3600)+(m*60)+s))"
   ]
  },
  {
   "cell_type": "markdown",
   "id": "e9f6530f",
   "metadata": {},
   "source": [
    "# Bài 6. Viết chương trình nhập vào năm sinh, in ra tuổi."
   ]
  },
  {
   "cell_type": "code",
   "execution_count": 20,
   "id": "3075178a",
   "metadata": {},
   "outputs": [
    {
     "name": "stdout",
     "output_type": "stream",
     "text": [
      "Nhập năm sinh: 1998\n",
      "Bạn sinh năm 1998 vậy bạn 24 tuối.\n"
     ]
    }
   ],
   "source": [
    "a = input(\"Nhập năm sinh: \")\n",
    "rs = 2023 - int(a) - 1\n",
    "print(\"Bạn sinh năm \" + a + \" vậy bạn \" + str(rs) + \" tuối.\")"
   ]
  },
  {
   "cell_type": "markdown",
   "id": "5601cb5d",
   "metadata": {},
   "source": [
    "# Bài 7. Nhập vào bán kính của hình tròn, tính và in ra chu vi, diện tích của hình tròn đó."
   ]
  },
  {
   "cell_type": "code",
   "execution_count": 22,
   "id": "4245b027",
   "metadata": {},
   "outputs": [
    {
     "name": "stdout",
     "output_type": "stream",
     "text": [
      "Nhập bán kính hình tròn: 1\n",
      "Chu vi của hình tròn  6.283185307179586\n",
      "Diện tích của hình tròn  3.141592653589793\n"
     ]
    }
   ],
   "source": [
    "import math\n",
    "r = float(input(\"Nhập bán kính hình tròn: \"))\n",
    "p = r*2*math.pi\n",
    "s = pow(r,2)*math.pi\n",
    "print(\"Chu vi của hình tròn \", p)\n",
    "print(\"Diện tích của hình tròn \",s)"
   ]
  },
  {
   "cell_type": "markdown",
   "id": "d99f1e30",
   "metadata": {},
   "source": [
    "# BÀI 8. Viết chương trinh tính số đo kiểm tra sức khỏe BMI."
   ]
  },
  {
   "cell_type": "code",
   "execution_count": 23,
   "id": "7787c906",
   "metadata": {},
   "outputs": [
    {
     "name": "stdout",
     "output_type": "stream",
     "text": [
      "Nhập cân nặng: 2\n",
      "Nhập chiều cao: 3\n",
      "Chỉ số BMI:  0.2222222222222222\n"
     ]
    }
   ],
   "source": [
    "w = float(input(\"Nhập cân nặng: \"))\n",
    "h = float(input(\"Nhập chiều cao: \"))\n",
    "BMI = w/(pow(h,2))\n",
    "print(\"Chỉ số BMI: \",BMI)"
   ]
  },
  {
   "cell_type": "markdown",
   "id": "b1460f11",
   "metadata": {},
   "source": [
    "# Bài 9. Viết chương trình in ra menu lựa chọn sau:"
   ]
  },
  {
   "cell_type": "code",
   "execution_count": 24,
   "id": "3dfb4cd6",
   "metadata": {},
   "outputs": [
    {
     "name": "stdout",
     "output_type": "stream",
     "text": [
      "==========MENU==========\n",
      "1. Hu tieu\n",
      "2. Chao long\n",
      "3. Banh canh\n",
      "4. Bun rieu\n",
      "5. Pho bo\n",
      "========================\n",
      "Moi nhap lua chon: 1\n",
      "========================\n",
      "Ban chon Hu tieu\n"
     ]
    }
   ],
   "source": [
    "print(\"==========MENU==========\")\n",
    "print(\"1. Hu tieu\")\n",
    "print(\"2. Chao long\")\n",
    "print(\"3. Banh canh\")\n",
    "print(\"4. Bun rieu\")\n",
    "print(\"5. Pho bo\")\n",
    "print(\"========================\")\n",
    "a = int(input(\"Moi nhap lua chon: \"))\n",
    "print(\"========================\")\n",
    "\n",
    "if(a==1):\n",
    "    print(\"Ban chon Hu tieu\")\n",
    "elif(a==2):\n",
    "    print(\"Ban chon Chao long\")\n",
    "elif(a==3):\n",
    "    print(\"Ban chon Banh canh\")\n",
    "elif(a==4):\n",
    "    print(\"Ban chon Bun rieu\")\n",
    "elif(a==5):\n",
    "    print(\"Ban chon Pho bo\")\n",
    "else:\n",
    "    print(\"Lua chon cua bang khong phu hop\")"
   ]
  },
  {
   "cell_type": "markdown",
   "id": "02b60682",
   "metadata": {},
   "source": [
    "# Bài 10. Cho số xe (gồm 4 chữ số) của bạn. Cho biết số xe của bạn được mấy nút?"
   ]
  },
  {
   "cell_type": "code",
   "execution_count": 26,
   "id": "2abe7931",
   "metadata": {},
   "outputs": [
    {
     "name": "stdout",
     "output_type": "stream",
     "text": [
      "Số xe của bạn là:1542\n",
      "Số xe của bạn được  2  nút\n"
     ]
    }
   ],
   "source": [
    "a = input(\"Số xe của bạn là:\")\n",
    "tmp = int(a)\n",
    "rs = int(0)\n",
    "div = 1000\n",
    "if len(a) < 4:\n",
    "    print(\"Số xe của bạn không hợp lệ.\")\n",
    "else:\n",
    "    for i in range(5):\n",
    "        tmp1 = int(tmp/div)\n",
    "        div = div/10\n",
    "        rs+= tmp1\n",
    "    rs = rs%10\n",
    "    print(\"Số xe của bạn được \",rs,\" nút\")"
   ]
  },
  {
   "cell_type": "markdown",
   "id": "0344db41",
   "metadata": {},
   "source": [
    "# Bài 11. Cho 1 ký tự chữ thường. In ra ký tự chữ hoa tương ứng"
   ]
  },
  {
   "cell_type": "code",
   "execution_count": 27,
   "id": "e427bcfd",
   "metadata": {},
   "outputs": [
    {
     "name": "stdout",
     "output_type": "stream",
     "text": [
      "Mời bạn nhập ký tự: a\n",
      "A\n"
     ]
    }
   ],
   "source": [
    "char = input(\"Mời bạn nhập ký tự: \")\n",
    "print(char.upper())"
   ]
  },
  {
   "cell_type": "markdown",
   "id": "4689f1f5",
   "metadata": {},
   "source": [
    "# Bài 12. Xuất ra một số (nguyên, thực) ngẫu nhiên theo yêu cầu sau:\n",
    "# a) 0 đến 100\n",
    "\n",
    "# b) 50 đến 99\n",
    "\n",
    "# c) -39 đến 79\n",
    "\n",
    "# d) -79 đến -39"
   ]
  },
  {
   "cell_type": "code",
   "execution_count": 28,
   "id": "b205ecb2",
   "metadata": {},
   "outputs": [
    {
     "name": "stdout",
     "output_type": "stream",
     "text": [
      "a.\n",
      "Số nguyên:  84\n",
      "Số thực:  87.7402278278456\n"
     ]
    }
   ],
   "source": [
    "from random import randint,uniform\n",
    "\n",
    "print(\"a.\")\n",
    "print(\"Số nguyên: \", randint(0,100))\n",
    "print(\"Số thực: \", uniform(0,100))"
   ]
  },
  {
   "cell_type": "code",
   "execution_count": 29,
   "id": "30e8d69f",
   "metadata": {},
   "outputs": [
    {
     "name": "stdout",
     "output_type": "stream",
     "text": [
      "a.\n",
      "Số nguyên:  65\n",
      "Số thực:  69.13726474855761\n"
     ]
    }
   ],
   "source": [
    "from random import randint,uniform\n",
    "\n",
    "print(\"a.\")\n",
    "print(\"Số nguyên: \", randint(50,99))\n",
    "print(\"Số thực: \", uniform(50,99))"
   ]
  },
  {
   "cell_type": "code",
   "execution_count": 30,
   "id": "1b7bcc10",
   "metadata": {},
   "outputs": [
    {
     "name": "stdout",
     "output_type": "stream",
     "text": [
      "a.\n",
      "Số nguyên:  57\n",
      "Số thực:  16.194681625689952\n"
     ]
    }
   ],
   "source": [
    "from random import randint,uniform\n",
    "\n",
    "print(\"a.\")\n",
    "print(\"Số nguyên: \", randint(-39,79))\n",
    "print(\"Số thực: \", uniform(-39,79))"
   ]
  },
  {
   "cell_type": "code",
   "execution_count": 31,
   "id": "40b0c546",
   "metadata": {},
   "outputs": [
    {
     "name": "stdout",
     "output_type": "stream",
     "text": [
      "a.\n",
      "Số nguyên:  -62\n",
      "Số thực:  -78.38092124993757\n"
     ]
    }
   ],
   "source": [
    "from random import randint,uniform\n",
    "\n",
    "print(\"a.\")\n",
    "print(\"Số nguyên: \", randint(-79,-39))\n",
    "print(\"Số thực: \", uniform(-79,-39))"
   ]
  },
  {
   "cell_type": "markdown",
   "id": "ab9703a9",
   "metadata": {},
   "source": [
    "# Bài 13. Nhập lần lượt ngày, tháng, năm sinh. Sau đó xuất ra theo định dạng sau:\n",
    "\n",
    "# a) Ngày/tháng/năm (Nhập 20 8 1990 thì xuất 20/8/1990)\n",
    "\n",
    "# b) Ngày/tháng/năm (Nhập 20 8 1990 thì xuất 20/8/90)\n",
    "\n",
    "# c) Năm/tháng/ngày (Nhập 20 8 1990 thì xuất 1990/8/20)"
   ]
  },
  {
   "cell_type": "code",
   "execution_count": 32,
   "id": "53ef1f62",
   "metadata": {},
   "outputs": [
    {
     "name": "stdout",
     "output_type": "stream",
     "text": [
      "Nhập lần lượt ngày, tháng, năm:20 8 1990\n",
      "20/8/1990\n"
     ]
    }
   ],
   "source": [
    "date = input(\"Nhập lần lượt ngày, tháng, năm:\")\n",
    "tmp = date.split(' ')\n",
    "print(tmp[0]+'/'+tmp[1]+'/'+tmp[2])"
   ]
  },
  {
   "cell_type": "code",
   "execution_count": 34,
   "id": "94b7ee07",
   "metadata": {},
   "outputs": [
    {
     "name": "stdout",
     "output_type": "stream",
     "text": [
      "Nhập lần lượt ngày, tháng, năm:20 8 1990\n",
      "20/8/90\n"
     ]
    }
   ],
   "source": [
    "date = input(\"Nhập lần lượt ngày, tháng, năm:\")\n",
    "tmp = date.split(' ')\n",
    "print(tmp[0]+'/'+tmp[1]+'/'+tmp[2][2]+tmp[2][3])"
   ]
  },
  {
   "cell_type": "code",
   "execution_count": 35,
   "id": "5f4e53b1",
   "metadata": {},
   "outputs": [
    {
     "name": "stdout",
     "output_type": "stream",
     "text": [
      "Nhập lần lượt ngày, tháng, năm:20 8 1990\n",
      "1990/8/20\n"
     ]
    }
   ],
   "source": [
    "date = input(\"Nhập lần lượt ngày, tháng, năm:\")\n",
    "tmp = date.split(' ')\n",
    "print(tmp[2]+'/'+tmp[1]+'/'+tmp[0])"
   ]
  },
  {
   "cell_type": "markdown",
   "id": "eae3a58a",
   "metadata": {},
   "source": [
    "# Ngược lại"
   ]
  },
  {
   "cell_type": "code",
   "execution_count": 36,
   "id": "32218cfe",
   "metadata": {},
   "outputs": [
    {
     "name": "stdout",
     "output_type": "stream",
     "text": [
      "Nhập lần lượt ngày, tháng, năm:20/8/1990\n",
      "20 8 1990\n"
     ]
    }
   ],
   "source": [
    "date = input(\"Nhập lần lượt ngày, tháng, năm:\")\n",
    "tmp = date.split('/')\n",
    "print(tmp[0]+' '+tmp[1]+' '+tmp[2])"
   ]
  },
  {
   "cell_type": "code",
   "execution_count": 40,
   "id": "24f36aa2",
   "metadata": {},
   "outputs": [
    {
     "name": "stdout",
     "output_type": "stream",
     "text": [
      "Nhập lần lượt ngày, tháng, năm:20/8/90\n",
      "20 8 1990\n"
     ]
    }
   ],
   "source": [
    "date = input(\"Nhập lần lượt ngày, tháng, năm:\")\n",
    "tmp = date.split('/')\n",
    "year = int(tmp[2])\n",
    "if year >= 50:\n",
    "    year = 1900 + year\n",
    "else:\n",
    "    year = 2000 + year\n",
    "print(tmp[0]+' '+tmp[1]+' '+str(year))"
   ]
  },
  {
   "cell_type": "code",
   "execution_count": 41,
   "id": "9dbd394d",
   "metadata": {},
   "outputs": [
    {
     "name": "stdout",
     "output_type": "stream",
     "text": [
      "Nhập lần lượt ngày, tháng, năm:1990/8/20\n",
      "20 8 1990\n"
     ]
    }
   ],
   "source": [
    "date = input(\"Nhập lần lượt ngày, tháng, năm:\")\n",
    "tmp = date.split('/')\n",
    "print(tmp[2]+' '+tmp[1]+' '+tmp[0])"
   ]
  },
  {
   "cell_type": "markdown",
   "id": "2b437ff5",
   "metadata": {},
   "source": [
    "# Bài 14. Tinh giá trị biểu thức sau:"
   ]
  },
  {
   "cell_type": "code",
   "execution_count": 42,
   "id": "4788d84a",
   "metadata": {},
   "outputs": [
    {
     "name": "stdout",
     "output_type": "stream",
     "text": [
      "Kết quả của biểu thức là:  -0.16176045807952366\n"
     ]
    }
   ],
   "source": [
    "rs = pow(32,(0.2)) - pow((1/64),(-0.25)) + pow((8/27),(1/3))\n",
    "print(\"Kết quả của biểu thức là: \",rs)"
   ]
  },
  {
   "cell_type": "markdown",
   "id": "6c767036",
   "metadata": {},
   "source": [
    "# Bài 15. Nhập a, b. Tính giá trị biểu thức sau:"
   ]
  },
  {
   "cell_type": "code",
   "execution_count": 45,
   "id": "94eed6cc",
   "metadata": {},
   "outputs": [
    {
     "name": "stdout",
     "output_type": "stream",
     "text": [
      "Nhap a: 1\n",
      "Nhap b: 2\n",
      "Giá trị biểu thức:  0.9999999999999973\n"
     ]
    }
   ],
   "source": [
    "a = int(input(\"Nhap a: \"))\n",
    "b = int(input(\"Nhap b: \"))\n",
    "tmp1 = (a+b)/(pow(a,1/3)+pow(b,1/3)) - pow(a*b,1/3)\n",
    "tmp2 = pow((pow(a,1/3)-pow(b,1/3)),2)\n",
    "print(\"Giá trị biểu thức: \", tmp1/tmp2)"
   ]
  },
  {
   "cell_type": "markdown",
   "id": "ce84e127",
   "metadata": {},
   "source": [
    "# Bài 16. Viết chương trình đổi từ giờ/phút/giây thành giây"
   ]
  },
  {
   "cell_type": "code",
   "execution_count": 56,
   "id": "217ff831",
   "metadata": {},
   "outputs": [
    {
     "name": "stdout",
     "output_type": "stream",
     "text": [
      "Nhập date: 1h8p8s\n",
      "4088 s\n"
     ]
    }
   ],
   "source": [
    "a = input(\"Nhập date: \")\n",
    "tmp = a.split('h')\n",
    "# print(tmp[1])\n",
    "rs = int(tmp[0])*3600\n",
    "tmp1 = tmp[1].split('p')\n",
    "rs = rs + int(tmp1[0])*60\n",
    "tmp2 = tmp1[1].split('s')\n",
    "rs = rs + int(tmp2[0])\n",
    "print(\"Kết quả là:\",rs,\"s\")"
   ]
  },
  {
   "cell_type": "markdown",
   "id": "707816ef",
   "metadata": {},
   "source": [
    "# Bài 17. Cho 3 số nguyên. Cho biết số lớn nhất và nhỏ nhất?"
   ]
  },
  {
   "cell_type": "code",
   "execution_count": 57,
   "id": "22fb727a",
   "metadata": {},
   "outputs": [
    {
     "name": "stdout",
     "output_type": "stream",
     "text": [
      "Nhập a:1\n",
      "Nhập b:2\n",
      "Nhập c:3\n",
      "Số lớn nhất:  3\n",
      "Số nhỏ nhất:  1\n"
     ]
    }
   ],
   "source": [
    "def max(a, b, c):\n",
    "    if(a>b) and (a>c):\n",
    "        return a\n",
    "    elif(b>c):\n",
    "        return b\n",
    "    else:\n",
    "        return c\n",
    "    \n",
    "def min(a, b, c):\n",
    "    if(a<b) and (a<c):\n",
    "        return a\n",
    "    elif(b<c):\n",
    "        return b\n",
    "    else:\n",
    "        return c\n",
    "    \n",
    "a = int(input(\"Nhập a:\"))\n",
    "b = int(input(\"Nhập b:\"))\n",
    "c = int(input(\"Nhập c:\"))\n",
    "print(\"Số lớn nhất: \",max(a,b,c))\n",
    "print(\"Số nhỏ nhất: \",min(a,b,c))\n",
    "    "
   ]
  },
  {
   "cell_type": "markdown",
   "id": "63141ba4",
   "metadata": {},
   "source": [
    "# Bài 18. Viết chương trình cho 2 giờ (giờ, phút, giây) và thực hiện cộng, trừ 2 giờ này"
   ]
  },
  {
   "cell_type": "code",
   "execution_count": 2,
   "id": "fcd8d2ed",
   "metadata": {},
   "outputs": [
    {
     "name": "stdout",
     "output_type": "stream",
     "text": [
      "Mời bạn nhập giờ thứ nhất theo định dạng hh mm ss5 20 11\n",
      "Mời bạn nhập giờ thứ nhất theo định dạng hh mm ss2 30 11\n",
      "Tổng hai giờ: 7:50:22\n",
      "Hiệu hai giờ 2:50:00\n"
     ]
    }
   ],
   "source": [
    "import datetime\n",
    "\n",
    "first = input(\"Mời bạn nhập giờ thứ nhất theo định dạng hh mm ss\")\n",
    "second = input(\"Mời bạn nhập giờ thứ nhất theo định dạng hh mm ss\")\n",
    "splitFirstTime=first.split(\" \")\n",
    "splitSecondTime=second.split(\" \")\n",
    "first = datetime.timedelta(hours=int(splitFirstTime[0]),minutes=int(splitFirstTime[1]),seconds=int(splitFirstTime[2]))\n",
    "second = datetime.timedelta(hours=int(splitSecondTime[0]),minutes=int(splitSecondTime[1]),seconds=int(splitSecondTime[2]))\n",
    "\n",
    "print(\"Tổng hai giờ:\", first+second)\n",
    "print(\"Hiệu hai giờ\", first-second)"
   ]
  },
  {
   "cell_type": "markdown",
   "id": "084385f2",
   "metadata": {},
   "source": [
    "# Bài 19. Nhập vào 4 số nguyên a, b, c, d. In ra màn hình số có giá trị nhỏ nhất (không dùng hàm min)."
   ]
  },
  {
   "cell_type": "code",
   "execution_count": 59,
   "id": "d320cfa7",
   "metadata": {},
   "outputs": [
    {
     "name": "stdout",
     "output_type": "stream",
     "text": [
      "Nhập a:1\n",
      "Nhập b:2\n",
      "Nhập c:3\n",
      "Nhập d:4\n",
      "Số lớn nhất:  1\n"
     ]
    }
   ],
   "source": [
    "def min(a, b, c, d):\n",
    "    if(a<b) and (a<c) and(a<d):\n",
    "        return a\n",
    "    elif(b<c) and (b<d):\n",
    "        return b\n",
    "    elif(c<d):\n",
    "        return c\n",
    "    else:\n",
    "        return d\n",
    "    \n",
    "a = int(input(\"Nhập a:\"))\n",
    "b = int(input(\"Nhập b:\"))\n",
    "c = int(input(\"Nhập c:\"))\n",
    "d = int(input(\"Nhập d:\"))\n",
    "print(\"Số nhỏ nhất: \",min(a,b,c,d))"
   ]
  },
  {
   "cell_type": "markdown",
   "id": "722699f0",
   "metadata": {},
   "source": [
    "# Bài 20. Nhập vào 3 số a, b, c từ bàn phím. In ra màn hình số có giá trị lớn nhất (không dùng hàm hỗ trợ)."
   ]
  },
  {
   "cell_type": "code",
   "execution_count": 60,
   "id": "f7997af4",
   "metadata": {},
   "outputs": [
    {
     "name": "stdout",
     "output_type": "stream",
     "text": [
      "Nhập a:1\n",
      "Nhập b:2\n",
      "Nhập c:3\n",
      "Số lớn nhất:  3\n"
     ]
    }
   ],
   "source": [
    "def max(a, b, c):\n",
    "    if(a>b) and (a>c):\n",
    "        return a\n",
    "    elif(b>c):\n",
    "        return b\n",
    "    else:\n",
    "        return c\n",
    "    \n",
    "a = int(input(\"Nhập a:\"))\n",
    "b = int(input(\"Nhập b:\"))\n",
    "c = int(input(\"Nhập c:\"))\n",
    "print(\"Số lớn nhất: \",max(a,b,c))"
   ]
  },
  {
   "cell_type": "markdown",
   "id": "282e6141",
   "metadata": {},
   "source": [
    "# Bài 21. Nhập 1 số bất kỳ. Hãy in giá trị (chuỗi) của số nguyên đó nếu nó có giá trị từ 0 đến 9, ngược lại thông báo không đọc được."
   ]
  },
  {
   "cell_type": "code",
   "execution_count": 3,
   "id": "ce3873b8",
   "metadata": {},
   "outputs": [
    {
     "name": "stdout",
     "output_type": "stream",
     "text": [
      "Nhập 1 số bất kỳ từ 0 đến 9: 5\n",
      "Nam\n"
     ]
    }
   ],
   "source": [
    "a = int(input(\"Nhập 1 số bất kỳ từ 0 đến 9: \"))\n",
    "if a==0:\n",
    "    print(\"Khong\")\n",
    "elif a==1:\n",
    "    print(\"Mot\")\n",
    "elif a==2:\n",
    "    print(\"Hai\")\n",
    "elif a==3:\n",
    "    print(\"Ba\")\n",
    "elif a==4:\n",
    "    print(\"Bon\")\n",
    "elif a==5:\n",
    "    print(\"Nam\")\n",
    "elif a==6:\n",
    "    print(\"Sau\")\n",
    "elif a==7:\n",
    "    print(\"Bay\")\n",
    "elif a==8:\n",
    "    print(\"Tam\")\n",
    "elif a==9:\n",
    "    print(\"Chin\")\n",
    "else:\n",
    "    (\"Khong doc duoc\")"
   ]
  },
  {
   "cell_type": "markdown",
   "id": "547aee54",
   "metadata": {},
   "source": [
    "# Bài 22. Giải và biện luận phương trình bậc nhất: ax + b = 0"
   ]
  },
  {
   "cell_type": "code",
   "execution_count": 4,
   "id": "486daa53",
   "metadata": {},
   "outputs": [
    {
     "name": "stdout",
     "output_type": "stream",
     "text": [
      "Giải PT ax + b = 0\n",
      "Nhập a: 1\n",
      "Nhập b: 2\n",
      "Nghiệm của PT:  -2.0\n"
     ]
    }
   ],
   "source": [
    "print(\"Giải PT ax + b = 0\")\n",
    "a = float(input(\"Nhập a: \"))\n",
    "b = float(input(\"Nhập b: \"))\n",
    "if a == 0:\n",
    "    if b != 0 :\n",
    "        print(\"Vô nghiệm\")\n",
    "    else: \n",
    "        print(\"Vô số nghiệm\")\n",
    "else:\n",
    "    x = -b/a\n",
    "    print(\"Nghiệm của PT: \", x)"
   ]
  },
  {
   "cell_type": "markdown",
   "id": "79dd55e6",
   "metadata": {},
   "source": [
    "# Bài 23. Giải và biện luận phương trình bậc hai: ax? + bx+c=0"
   ]
  },
  {
   "cell_type": "code",
   "execution_count": 10,
   "id": "c4434677",
   "metadata": {},
   "outputs": [
    {
     "name": "stdout",
     "output_type": "stream",
     "text": [
      "Giải PT ax^2 + bx + c = 0\n",
      "Nhập a: 2\n",
      "Nhập b: 3\n",
      "Nhập c: 4\n",
      "PT bậc 2 có 2 nghiệm: \n",
      "Nghiệm thứ nhất:  (-0.7499999999999999+1.1989578808281798j)\n",
      "Nghiệm thứ hai:  (-0.7500000000000001-1.1989578808281798j)\n"
     ]
    }
   ],
   "source": [
    "import math\n",
    "print(\"Giải PT ax^2 + bx + c = 0\")\n",
    "a = float(input(\"Nhập a: \"))\n",
    "b = float(input(\"Nhập b: \"))\n",
    "c = float(input(\"Nhập c: \"))\n",
    "denta = pow(b,2) - 4*a*c\n",
    "if(a == 0):\n",
    "    if(b==0):\n",
    "        print(\"PT vô số nghiệm\")\n",
    "    else:\n",
    "        print(\"PT vô nghiệm\")\n",
    "    if denta < 0:\n",
    "        print(\"PT bậc 2 vô nghiệm\")\n",
    "else:\n",
    "    if denta == 0:\n",
    "        tmp = -b/(2*a)\n",
    "        print(\"PT bậc 2 có nghiệm kép x1 = x2 = \", tmp)\n",
    "    else:\n",
    "        no1 = (-b+pow(denta,1/2))/(2*a)\n",
    "        no2 = (-b-pow(denta,1/2))/(2*a)\n",
    "        print(\"PT bậc 2 có 2 nghiệm: \")\n",
    "        print(\"Nghiệm thứ nhất: \", no1)\n",
    "        print(\"Nghiệm thứ hai: \", no2)"
   ]
  },
  {
   "cell_type": "markdown",
   "id": "c374d91a",
   "metadata": {},
   "source": [
    "# Bài 24. Nhập vào giờ, phút, giây. Kiểm tra xem giờ, phút, giấy đó có hợp lệ hay không? In kết quả ra màn hình."
   ]
  },
  {
   "cell_type": "code",
   "execution_count": 13,
   "id": "b549d018",
   "metadata": {},
   "outputs": [
    {
     "name": "stdout",
     "output_type": "stream",
     "text": [
      "Nhập giờ: 1\n",
      "Nhập phút: 2\n",
      "Nhập giây: 60\n",
      "Gio ko hop le\n"
     ]
    }
   ],
   "source": [
    "h = int(input(\"Nhập giờ: \"))\n",
    "m = int(input(\"Nhập phút: \"))\n",
    "s = int(input(\"Nhập giây: \"))\n",
    "if h>=0 and h<=24:\n",
    "    if m>=0 and m<=59:\n",
    "        if s>=0 and s<=59:\n",
    "            print(\"Gio hop le\")\n",
    "        else:\n",
    "            print(\"Gio ko hop le\")\n",
    "    else:\n",
    "        print(\"Gio ko hop le\")\n",
    "else:\n",
    "    print(\"Gio ko hop le\")"
   ]
  },
  {
   "cell_type": "markdown",
   "id": "b0e36dcb",
   "metadata": {},
   "source": [
    "# Bài 25. Nhập 1 chữ cái, nếu là chữ thường thì đổi thành chữ hoa, ngược lại thì đổi thành chữ thường"
   ]
  },
  {
   "cell_type": "code",
   "execution_count": 15,
   "id": "5facd349",
   "metadata": {},
   "outputs": [
    {
     "name": "stdout",
     "output_type": "stream",
     "text": [
      "Nhập 1 chữ cái bất kì: a\n",
      "A\n"
     ]
    }
   ],
   "source": [
    "a = input(\"Nhập 1 chữ cái bất kì: \")\n",
    "if a>='a' and a<='z':\n",
    "    print(a.upper())\n",
    "else:\n",
    "    print(a.lower())"
   ]
  },
  {
   "cell_type": "markdown",
   "id": "ab7c6e86",
   "metadata": {},
   "source": [
    "# Bài 26. \n",
    "# (a) Cho ba số a, b, c được nhập vào từ bàn phím. Hãy in ra màn hình theo thứ tự tăng dần các số (Chỉ dùng 1 biến phủ)\n",
    "#  (b) Nhập vào 1 số nguyên N sau đó in ra số có các con số theo thứ tự tăng dần. Ví dụ: nhập số 6879 thì in ra số 6789"
   ]
  },
  {
   "cell_type": "code",
   "execution_count": 38,
   "id": "f799a506",
   "metadata": {},
   "outputs": [
    {
     "name": "stdout",
     "output_type": "stream",
     "text": [
      "Nhập số vào: 654\n",
      "456\n"
     ]
    }
   ],
   "source": [
    "a = input(\"Nhập số vào: \")\n",
    "s = list(a)\n",
    "\n",
    "if int(s[0])>int(s[1]):\n",
    "    s[0],s[1]=s[1],s[0]\n",
    "if int(s[1])> int(s[2]):\n",
    "    s[1],s[2] = s[2],s[1]\n",
    "if int(s[0])>int(s[1]):\n",
    "    s[0],s[1] = s[1],s[0]\n",
    "\n",
    "print(s[0]+s[1]+s[2])    "
   ]
  },
  {
   "cell_type": "code",
   "execution_count": 44,
   "id": "1fdae68d",
   "metadata": {},
   "outputs": [
    {
     "name": "stdout",
     "output_type": "stream",
     "text": [
      "Nhập số vào: 4561\n",
      "1456\n"
     ]
    }
   ],
   "source": [
    "a = int(input(\"Nhập số vào: \"))\n",
    "s = list(str(a))\n",
    "\n",
    "if int(s[0])>int(s[1]):\n",
    "    s[0],s[1]=s[1],s[0]\n",
    "if int(s[1])> int(s[2]):\n",
    "    s[1],s[2] = s[2],s[1]\n",
    "if int(s[2])> int(s[3]):\n",
    "    s[2],s[3] = s[3],s[2]\n",
    "if int(s[1])> int(s[2]):\n",
    "    s[1],s[2] = s[2],s[1]\n",
    "if int(s[0])>int(s[1]):\n",
    "    s[0],s[1] = s[1],s[0]\n",
    "    \n",
    "print(s[0]+s[1]+s[2]+s[3])\n"
   ]
  },
  {
   "cell_type": "markdown",
   "id": "1770e78b",
   "metadata": {},
   "source": [
    "# Bài27. Viết chương trình tính diện tích và chu vi các hình: hình vuông(v) và hình tròn(t) với những thông tin được nhập từ bàn phím."
   ]
  },
  {
   "cell_type": "code",
   "execution_count": 49,
   "id": "a77443a1",
   "metadata": {},
   "outputs": [
    {
     "name": "stdout",
     "output_type": "stream",
     "text": [
      "Nhập hình: t\n",
      "Tính P và S của hình tròn\n",
      "Nhập bán kính = 2\n",
      "Kết quả P =  12.566370614359172  S =  12.566370614359172\n"
     ]
    }
   ],
   "source": [
    "import math\n",
    "\n",
    "types = input(\"Nhập hình: \")\n",
    "if(types == 'v'):\n",
    "    print(\"Tính P và S của hình vuông\")\n",
    "    c = float(input(\"Nhập cạnh = \"))\n",
    "    print(\"Kết quả P = \",c*4, \" S = \", c*c)\n",
    "elif types == 'n':\n",
    "    print(\"Tính P và S của hình chữ nhật\")\n",
    "    cd = float(input(\"Nhập chiều dài = \"))\n",
    "    cr = float(input(\"Nhập chiều rộng = \"))\n",
    "    print(\"Kết quả P = \",(cd+cr)*2, \" S = \", cd*cr)\n",
    "elif types == 't':\n",
    "    print(\"Tính P và S của hình tròn\")\n",
    "    r = float(input(\"Nhập bán kính = \"))\n",
    "    print(\"Kết quả P = \",2*r*math.pi, \" S = \", r*r*math.pi)\n",
    "else:\n",
    "    print(\"Sai kiểu hình!\")"
   ]
  },
  {
   "cell_type": "markdown",
   "id": "af123e8b",
   "metadata": {},
   "source": [
    "# Bài 28. Nhập vào số N từ bản phim (điều kiện | nguyên dương nếu người dùng nhập không đúng thì bắt nhập lại. Sao đó in ra tất cả ước số của N."
   ]
  },
  {
   "cell_type": "code",
   "execution_count": 103,
   "id": "51b1998a",
   "metadata": {
    "scrolled": false
   },
   "outputs": [
    {
     "name": "stdout",
     "output_type": "stream",
     "text": [
      "Nhập vào số N: 5\n",
      "Các ước số của N là:\n",
      "1\n",
      "5\n"
     ]
    }
   ],
   "source": [
    "while True:\n",
    "  n = int(input(\"Nhập vào số N: \"))\n",
    "  if n > 0:\n",
    "    break\n",
    "  else:\n",
    "    print(\"Vui lòng nhập số nguyên dương!\")\n",
    "\n",
    "print(\"Các ước số của N là:\")\n",
    "for i in range(1, n + 1):\n",
    "  if n % i == 0:\n",
    "    print(i)"
   ]
  },
  {
   "cell_type": "markdown",
   "id": "d7cb4954",
   "metadata": {},
   "source": [
    "# Bài 29. Tỉnh tổng các chữ số N nguyên dương"
   ]
  },
  {
   "cell_type": "code",
   "execution_count": 66,
   "id": "67258436",
   "metadata": {},
   "outputs": [
    {
     "name": "stdout",
     "output_type": "stream",
     "text": [
      "Nhập số N: 456\n",
      "Tổng chữ số N:  15\n"
     ]
    }
   ],
   "source": [
    "a = input(\"Nhập số N: \")\n",
    "rs= 0\n",
    "for i in range(0, len(a)):\n",
    "    rs = rs + int(a[i])\n",
    "print(\"Tổng chữ số N: \", rs)"
   ]
  },
  {
   "cell_type": "markdown",
   "id": "ca660e58",
   "metadata": {},
   "source": [
    "# Bài 30. Viết chương trình nhập vào tháng năm. Hãy cho biết tháng đó có là an ngày? (Đề kiểm tra năm nhuận Dương lịch, bạn lấy năm đó chia qua chia hết cho 4 thì năm đó là năm nhuận. Với các năm tròn thế kỷ, co 00 ở cuối thì lấy số năm chia cho 400. Nếu chia hết cho 400 thì là dong nhuận - Năm nhuận là năm chia hết cho 4 và không chia hết cho 100 hoặc c chia hết cho 400)"
   ]
  },
  {
   "cell_type": "code",
   "execution_count": 67,
   "id": "52836598",
   "metadata": {},
   "outputs": [
    {
     "name": "stdout",
     "output_type": "stream",
     "text": [
      "Nhập tháng: 2\n",
      "Nhập năm: 2020\n",
      "Số ngày của tháng 2 của 2020 là:  29\n"
     ]
    }
   ],
   "source": [
    "def checkDaysInMonth(month, year):\n",
    "    if month > 0 and month <= 12:\n",
    "        if month == 2:\n",
    "            if year % 400 == 0:\n",
    "                return 29\n",
    "            elif year % 100 == 0:\n",
    "                return 28\n",
    "            elif year % 4 == 0:\n",
    "                return 29\n",
    "            else:\n",
    "                return 28\n",
    "        elif month in [4, 6, 9, 11]:\n",
    "            return 30\n",
    "        else:\n",
    "            return 31\n",
    "    else:\n",
    "        return 0\n",
    "\n",
    "m = int(input(\"Nhập tháng: \"))\n",
    "y = int(input(\"Nhập năm: \"))\n",
    "print(\"Số ngày của tháng\",m,\"của\",y,\"là: \",checkDaysInMonth(m,y))"
   ]
  },
  {
   "cell_type": "markdown",
   "id": "9e6f00c0",
   "metadata": {},
   "source": [
    "# Bài 31. Nhập vào ba số nguyên dương. Kiểm tra xem 3 số đó có lập thành tam giác không? Nếu có hãy cho biết tam giác đó thuộc loại nào? (Cân, vuông, déu...)."
   ]
  },
  {
   "cell_type": "code",
   "execution_count": 69,
   "id": "cec7ca07",
   "metadata": {},
   "outputs": [
    {
     "name": "stdout",
     "output_type": "stream",
     "text": [
      "Nhập a: 4\n",
      "Nhập b: 5\n",
      "Nhập c: 6\n",
      "3 cạnh a b c thuộc 1 tam giác\n",
      "Tam giác thường\n"
     ]
    }
   ],
   "source": [
    "import math\n",
    "a = float(input(\"Nhập a: \"))\n",
    "b = float(input(\"Nhập b: \"))\n",
    "c = float(input(\"Nhập c: \"))\n",
    "if ((a+b) > c) and ((b+c) > a) and ((a+c) > b):\n",
    "    print(\"3 cạnh a b c thuộc 1 tam giác\")\n",
    "    if a==b==c:\n",
    "        print(\"Tam giác đều\")\n",
    "    elif (a==c) or (b==c) or (a==b):\n",
    "        print(\"Tam giác cân\")\n",
    "    elif (pow(pow(a,2)+pow(b,2),1/2) == c) or (pow(pow(b,2)+pow(c,2),1/2) == a) or (pow(pow(a,2)+pow(c,2),1/2) == b):\n",
    "        print(\"Tam giác vuông\")\n",
    "    else:\n",
    "        print(\"Tam giác thường\")\n",
    "else:\n",
    "    print(\"3 cạnh a b c không thuộc 1 tam giác\")"
   ]
  },
  {
   "cell_type": "markdown",
   "id": "f6c1f62d",
   "metadata": {},
   "source": [
    "# Bài 32. Viết chương trình tính tiền cước TAXI. Biết rằng: 1 km đầu tiên là 15000đ, từ km thứ 2 đến thứ 5 giá là 13500đ, từ km thứ 6 giả là 11000, nếu đi hơn 120km thì sẽ được giảm 10% trên tổng tiền."
   ]
  },
  {
   "cell_type": "code",
   "execution_count": 71,
   "id": "6f4ef14b",
   "metadata": {},
   "outputs": [
    {
     "name": "stdout",
     "output_type": "stream",
     "text": [
      "Nhập quãng đường đi: 121\n",
      "Số tiền:  1089.0 k\n"
     ]
    }
   ],
   "source": [
    "distance = float(input(\"Nhập quãng đường đi: \"))\n",
    "if distance == 1:\n",
    "    print(\"Số tiền: 15\")\n",
    "elif distance <=5:\n",
    "    print(\"Số tiền: \",distance*13.5,\"k\")\n",
    "elif (distance > 6) and (distance <= 8):\n",
    "    print(\"Số tiền: \",distance*11,\"k\")\n",
    "else:\n",
    "    if(distance*10 <= 120):\n",
    "        print(\"Số tiền: \",distance*11,\"k\")\n",
    "    else:\n",
    "        print(\"Số tiền: \",distance*10*0.9,\"k\")"
   ]
  },
  {
   "cell_type": "markdown",
   "id": "f94877c3",
   "metadata": {},
   "source": [
    "# Bài 33. Viết chương trình nhập vào số nguyên dương n. Kiểm tra xem n có phải là số chính phương hay không? (Số chính phương là số khi lấy căn bậc 2 có kết quả là nguyên)."
   ]
  },
  {
   "cell_type": "code",
   "execution_count": 75,
   "id": "c463f1bc",
   "metadata": {},
   "outputs": [
    {
     "name": "stdout",
     "output_type": "stream",
     "text": [
      "Nhập số N: 4\n",
      "N là số chính phương\n"
     ]
    }
   ],
   "source": [
    "def checkSCP(a):\n",
    "    flag = 0\n",
    "    if any(i**2 == a for i in range(a+1)):\n",
    "        flag = 1\n",
    "    return flag\n",
    "    \n",
    "a = int(input(\"Nhập số N: \"))\n",
    "if(checkSCP(a)==1):\n",
    "    print(\"N là số chính phương\")\n",
    "else:\n",
    "    print(\"N không là số chính phương\")"
   ]
  },
  {
   "cell_type": "markdown",
   "id": "f2c32786",
   "metadata": {},
   "source": [
    "# Bài 34. Viết chương trình nhập vào số nguyên dương n. Kiểm tra xem n có phải là số nguyên tố hay không?"
   ]
  },
  {
   "cell_type": "code",
   "execution_count": 82,
   "id": "6e37781a",
   "metadata": {},
   "outputs": [
    {
     "name": "stdout",
     "output_type": "stream",
     "text": [
      "Nhập số nguyên N vào: 5\n",
      "N là số nguyên tố\n"
     ]
    }
   ],
   "source": [
    "def checkSNT(a):\n",
    "    if any(a%i == 0 for i in range(2,a)):\n",
    "        return 0\n",
    "    return 1\n",
    "    \n",
    "a = int(input(\"Nhập số nguyên N vào: \"))\n",
    "if checkSNT(a) == 1:\n",
    "    print(\"N là số nguyên tố\")\n",
    "else:\n",
    "    print(\"N không là số nguyên tố\")"
   ]
  },
  {
   "cell_type": "markdown",
   "id": "102c902f",
   "metadata": {},
   "source": [
    "# Bài 35. Tính S= 1 + 2 + 3 +...+n {n nguyên và lớn hơn 0)"
   ]
  },
  {
   "cell_type": "code",
   "execution_count": 86,
   "id": "ce3c56f7",
   "metadata": {
    "scrolled": true
   },
   "outputs": [
    {
     "name": "stdout",
     "output_type": "stream",
     "text": [
      "Nhập n: 2\n",
      "Kết quả là:  3\n"
     ]
    }
   ],
   "source": [
    "n = int(input(\"Nhập n: \"))\n",
    "rs = 0\n",
    "for i in range(1,n+1):\n",
    "    rs = rs + i\n",
    "print(\"Kết quả là: \",rs)"
   ]
  },
  {
   "cell_type": "markdown",
   "id": "2011aab5",
   "metadata": {},
   "source": [
    "# Bài 36. Tính S(n) = 1^2+2^2+3^2+4^2 + ... + n^2 (n là số nguyên và lớn hơn 0)"
   ]
  },
  {
   "cell_type": "code",
   "execution_count": 87,
   "id": "31120195",
   "metadata": {},
   "outputs": [
    {
     "name": "stdout",
     "output_type": "stream",
     "text": [
      "Nhập n: 2\n",
      "Kết quả là:  5\n"
     ]
    }
   ],
   "source": [
    "n = int(input(\"Nhập n: \"))\n",
    "if n<=0:\n",
    "    print(\"N không hợp lệ.\")\n",
    "else:\n",
    "    rs = 0\n",
    "    for i in range(1,n+1):\n",
    "        rs = rs + pow(i,2)\n",
    "    print(\"Kết quả là: \", rs)"
   ]
  },
  {
   "cell_type": "markdown",
   "id": "3fb5c4ba",
   "metadata": {},
   "source": [
    "# Bài 37. Tính S = 2+4+6+...+ n (với n chẵn > 0)"
   ]
  },
  {
   "cell_type": "code",
   "execution_count": 89,
   "id": "c29bfd8f",
   "metadata": {},
   "outputs": [
    {
     "name": "stdout",
     "output_type": "stream",
     "text": [
      "Nhập n: 6\n",
      "Kết quả là:  12\n"
     ]
    }
   ],
   "source": [
    "n = int(input(\"Nhập n: \"))\n",
    "if n<=0 and n%2!=0:\n",
    "    print(\"N không hợp lệ.\")\n",
    "else:\n",
    "    rs = 0\n",
    "    for i in range(2, n+1, 2):\n",
    "        rs = rs+ i\n",
    "    print(\"Kết quả là: \", rs)"
   ]
  },
  {
   "cell_type": "markdown",
   "id": "c319f975",
   "metadata": {},
   "source": [
    "# Bài 38. Tính S = 1*2*3*...*n (với n lẻ > 0)"
   ]
  },
  {
   "cell_type": "code",
   "execution_count": 91,
   "id": "54f9e332",
   "metadata": {},
   "outputs": [
    {
     "name": "stdout",
     "output_type": "stream",
     "text": [
      "Nhập n: 5\n",
      "Kết quả là:  120\n"
     ]
    }
   ],
   "source": [
    "n = int(input(\"Nhập n: \"))\n",
    "if n<=0 and n%2==0:\n",
    "    print(\"N không hợp lệ.\")\n",
    "else:\n",
    "    rs = 1\n",
    "    for i in range (1,n+1):\n",
    "        rs = rs * i\n",
    "    print(\"Kết quả là: \", rs)"
   ]
  },
  {
   "cell_type": "markdown",
   "id": "d5fd7631",
   "metadata": {},
   "source": [
    "# Bài 39. Tính S(n) = 1 + 1/2 + 1/3 + ... + 1/n"
   ]
  },
  {
   "cell_type": "code",
   "execution_count": 92,
   "id": "d89adc51",
   "metadata": {},
   "outputs": [
    {
     "name": "stdout",
     "output_type": "stream",
     "text": [
      "Nhập n: 2\n",
      "Kết quả là:  1.5\n"
     ]
    }
   ],
   "source": [
    "n = int(input(\"Nhập n: \"))\n",
    "rs = 0\n",
    "for i in range(1,n+1):\n",
    "    rs = rs + 1/i\n",
    "print(\"Kết quả là: \", rs)"
   ]
  },
  {
   "cell_type": "markdown",
   "id": "9bcbdb3a",
   "metadata": {},
   "source": [
    "# Bài 40. Tính S(n) = 1/2 + 1/4 + ... + 1/2n"
   ]
  },
  {
   "cell_type": "code",
   "execution_count": 94,
   "id": "44f733dc",
   "metadata": {},
   "outputs": [
    {
     "name": "stdout",
     "output_type": "stream",
     "text": [
      "Nhập n: 2\n",
      "Kết quả là:  0.75\n"
     ]
    }
   ],
   "source": [
    "n = int(input(\"Nhập n: \"))\n",
    "rs = 0\n",
    "for i in range(1,n+1):\n",
    "    rs = rs + (1/(2*i))\n",
    "print(\"Kết quả là: \", rs)"
   ]
  },
  {
   "cell_type": "markdown",
   "id": "efff1a99",
   "metadata": {},
   "source": [
    "# Bài 41. Tính S(n) = 1 + 1/3 + 1/5 + ... 1/(2n+1)"
   ]
  },
  {
   "cell_type": "code",
   "execution_count": 96,
   "id": "a133cd4e",
   "metadata": {},
   "outputs": [
    {
     "name": "stdout",
     "output_type": "stream",
     "text": [
      "Nhập n: 2\n",
      "Kết quả là:  1.5333333333333332\n"
     ]
    }
   ],
   "source": [
    "n = int(input(\"Nhập n: \"))\n",
    "rs = 1\n",
    "for i in range(1,n+1):\n",
    "    rs = rs + (1/((2*i)+1))\n",
    "print(\"Kết quả là: \", rs)"
   ]
  },
  {
   "cell_type": "markdown",
   "id": "e3badaa8",
   "metadata": {},
   "source": [
    "# Bài 42. Tính S(n) = 1/(1*2) + 1/(2*3) + ... + 1/(n*(n+1))"
   ]
  },
  {
   "cell_type": "code",
   "execution_count": 98,
   "id": "d45686f3",
   "metadata": {},
   "outputs": [
    {
     "name": "stdout",
     "output_type": "stream",
     "text": [
      "Nhập n: 1\n",
      "Kết quả là:  0.3333333333333333\n"
     ]
    }
   ],
   "source": [
    "n = int(input(\"Nhập n: \"))\n",
    "rs = 0\n",
    "for i in range(1,n+1):\n",
    "    rs = rs + (1/((i+1)+i))\n",
    "print(\"Kết quả là: \", rs)"
   ]
  },
  {
   "cell_type": "markdown",
   "id": "f153f320",
   "metadata": {},
   "source": [
    "# Bài 43. Tính S(n) = 1/2 + 2/3 + ... + n/(n+1)"
   ]
  },
  {
   "cell_type": "code",
   "execution_count": 99,
   "id": "08efd247",
   "metadata": {},
   "outputs": [
    {
     "name": "stdout",
     "output_type": "stream",
     "text": [
      "Nhập n: 2\n",
      "Kết quả là:  1.1666666666666665\n"
     ]
    }
   ],
   "source": [
    "n = int(input(\"Nhập n: \"))\n",
    "rs = 0\n",
    "for i in range(1,n+1):\n",
    "    rs = rs + (i/(i+1))\n",
    "print(\"Kết quả là: \", rs)"
   ]
  },
  {
   "cell_type": "markdown",
   "id": "3cae880d",
   "metadata": {},
   "source": [
    "# Bài 44. Tính S(n) = 1/2 + 3/4 + ... +  (2*n+1)/(2*n+2)"
   ]
  },
  {
   "cell_type": "code",
   "execution_count": 100,
   "id": "88bc6096",
   "metadata": {},
   "outputs": [
    {
     "name": "stdout",
     "output_type": "stream",
     "text": [
      "Nhập n: 1\n",
      "Kết quả là:  1.5\n"
     ]
    }
   ],
   "source": [
    "n = int(input(\"Nhập n: \"))\n",
    "rs = 0\n",
    "for i in range(0,n+1):\n",
    "    rs = rs + ((2*n+1)/(2*n+2))\n",
    "print(\"Kết quả là: \", rs)"
   ]
  },
  {
   "cell_type": "markdown",
   "id": "d1b970fc",
   "metadata": {},
   "source": [
    "# Bài 45. Tính S(n) = x + x^2/1+2 + x^3/1+2+3 + ... + x^n/1+2+3+...n"
   ]
  },
  {
   "cell_type": "code",
   "execution_count": 102,
   "id": "d036772e",
   "metadata": {},
   "outputs": [
    {
     "name": "stdout",
     "output_type": "stream",
     "text": [
      "Nhập n: 2\n",
      "Nhập x: 1\n",
      "Kết quả là:  1.3333333333333333\n"
     ]
    }
   ],
   "source": [
    "def denominator(n):\n",
    "    rs = 0\n",
    "    for i in range(1,n+1):\n",
    "        rs = rs + i\n",
    "    return rs\n",
    "\n",
    "n = int(input(\"Nhập n: \"))\n",
    "x = int(input(\"Nhập x: \"))\n",
    "rs = 0\n",
    "for i in range(1,n+1):\n",
    "    rs = rs + pow(x,i)/(denominator(i))\n",
    "print(\"Kết quả là: \", rs)\n",
    "    "
   ]
  },
  {
   "cell_type": "markdown",
   "id": "a073f706",
   "metadata": {},
   "source": [
    "# Bài 46. Viết chương trình liệt kê tất cả bộ nghiệm nguyên của phương trình sau: 2x + 7y + 9z = 979 với (x, y, z > 0)"
   ]
  },
  {
   "cell_type": "code",
   "execution_count": null,
   "id": "7d9ab4a0",
   "metadata": {},
   "outputs": [],
   "source": []
  },
  {
   "cell_type": "markdown",
   "id": "0c6a2d8e",
   "metadata": {},
   "source": [
    "# Bài 47. Viết chương trình liệt kê tất cả bộ nghiệm nguyên của phương trình sau 2x + 7y + 92 = 979 với x, y, z > 0 và x+y+z lớn nhất"
   ]
  },
  {
   "cell_type": "code",
   "execution_count": null,
   "id": "620215bc",
   "metadata": {},
   "outputs": [],
   "source": []
  },
  {
   "cell_type": "markdown",
   "id": "752b6760",
   "metadata": {},
   "source": [
    "# Bài 48. Viết chương trình liệt kê tất cả bộ nghiệm nguyên của phương trình sau 2x + 7y + 92 = 979 với x, y, z > 0 và x+y+z nhỏ nhất"
   ]
  },
  {
   "cell_type": "code",
   "execution_count": null,
   "id": "56573731",
   "metadata": {},
   "outputs": [],
   "source": []
  },
  {
   "cell_type": "markdown",
   "id": "f2843b73",
   "metadata": {},
   "source": [
    "# Bài 49. Viết phương thức kiểm tra một số nhập vào là số chẵn có giá trị âm. Đúng trả về true. Sai trả về false."
   ]
  },
  {
   "cell_type": "code",
   "execution_count": 105,
   "id": "b615fa22",
   "metadata": {},
   "outputs": [
    {
     "name": "stdout",
     "output_type": "stream",
     "text": [
      "Nhập một số: -2\n",
      "True\n"
     ]
    }
   ],
   "source": [
    "def check(a):\n",
    "    if a%2==0 and a<0:\n",
    "        return True\n",
    "    else:\n",
    "        return False\n",
    "\n",
    "n = int(input(\"Nhập một số: \"))\n",
    "print(check(n))"
   ]
  },
  {
   "cell_type": "markdown",
   "id": "75a9731a",
   "metadata": {},
   "source": [
    "# Bài 50. Viết phương thức kiểm tra một số nhập vào: nếu là số âm có giá trị lễ thì trả về -1, nếu là số dương có giá trị chân thì trả về 1, trường hợp khác trả về 0."
   ]
  },
  {
   "cell_type": "code",
   "execution_count": 106,
   "id": "59dd8c46",
   "metadata": {},
   "outputs": [
    {
     "name": "stdout",
     "output_type": "stream",
     "text": [
      "Nhập một số: -5\n",
      "-1\n"
     ]
    }
   ],
   "source": [
    "def check(a):\n",
    "    if a<0 and a%2!=0:\n",
    "        return -1\n",
    "    elif a>0 and a%2==0:\n",
    "        return 1\n",
    "    else:\n",
    "        return 0\n",
    "    \n",
    "n = int(input(\"Nhập một số: \"))\n",
    "print(check(n))"
   ]
  },
  {
   "cell_type": "markdown",
   "id": "4c371fc3",
   "metadata": {},
   "source": [
    "# Bài 51. Viết phương thức kiểm tra giá trị nhập vào phải thuộc đoạn [-89,90], nếu sai bắt nhập lại (Chú ý: không dùng đệ quy)"
   ]
  },
  {
   "cell_type": "code",
   "execution_count": 113,
   "id": "56a97f92",
   "metadata": {},
   "outputs": [
    {
     "name": "stdout",
     "output_type": "stream",
     "text": [
      "Nhập vào số N: -99\n",
      "Vui lòng nhập lại!\n",
      "Nhập vào số N: 89\n",
      "N thuộc đoạn [-89,90]\n"
     ]
    }
   ],
   "source": [
    "def inputFunc():\n",
    "    while True:\n",
    "        n = int(input(\"Nhập vào số N: \"))\n",
    "        if n >= -89 and n <= 90:\n",
    "            print(\"N thuộc đoạn [-89,90]\")\n",
    "            break\n",
    "        else:\n",
    "            print(\"Vui lòng nhập lại!\")\n",
    "            \n",
    "inputFunc()"
   ]
  },
  {
   "cell_type": "markdown",
   "id": "02b380e6",
   "metadata": {},
   "source": [
    "# Bài 52. Anh/chị nhập vào một số nguyên dương n và viết các phương thức sau:\n",
    "# a) PT tính căn bậc x của số n:\n",
    "# b) PT trả về số đảo\n",
    "# c) PT kiểm tra có phải là số chính phương\n",
    "# d) PT kiểm tra có phải là số nguyên tố\n",
    "# e) PT tính tích các chữ số lẻ\n",
    "# f) PT tính tổng các số nguyên tố nhỏ hơn n\n",
    "# g) PT tính tổng các số chính phương nhỏ hơn n\n",
    "# h) PT tính tổng các ước số dương của n"
   ]
  },
  {
   "cell_type": "code",
   "execution_count": 3,
   "id": "26779dfb",
   "metadata": {},
   "outputs": [
    {
     "name": "stdout",
     "output_type": "stream",
     "text": [
      "Nhập số N: 8 \n",
      "Nhập căn bậc x của số n: 3\n",
      "Căn bậc 3 của số 8 là:  2.0\n"
     ]
    }
   ],
   "source": [
    "def pows(x,n):\n",
    "    return n**(1/x)\n",
    "\n",
    "n = int(input(\"Nhập số N: \"))\n",
    "x = int(input(\"Nhập căn bậc x của số n: \"))\n",
    "print(\"Căn bậc\",x,\"của số\",n,\"là: \", pows(x,n))"
   ]
  },
  {
   "cell_type": "code",
   "execution_count": 4,
   "id": "8449bcd8",
   "metadata": {},
   "outputs": [
    {
     "name": "stdout",
     "output_type": "stream",
     "text": [
      "Nhập số N:-6\n",
      "Số đảo của N:  0.16666666666666666\n"
     ]
    }
   ],
   "source": [
    "def reverseNumber(a):\n",
    "     return -(1/a)\n",
    "\n",
    "n = int(input(\"Nhập số N:\"))\n",
    "print(\"Số đảo của N: \",reverseNumber(n))"
   ]
  },
  {
   "cell_type": "code",
   "execution_count": 7,
   "id": "7b009fb7",
   "metadata": {},
   "outputs": [
    {
     "name": "stdout",
     "output_type": "stream",
     "text": [
      "Nhập số N:9\n",
      "N là số chính phương\n"
     ]
    }
   ],
   "source": [
    "def checkSCP(a):\n",
    "    flag = 0\n",
    "    if any(i**2 == a for i in range(a+1)):\n",
    "        flag = 1\n",
    "    return flag\n",
    "\n",
    "n = int(input(\"Nhập số N:\"))\n",
    "if checkSCP(n)==1:\n",
    "    print(\"N là số chính phương\")\n",
    "else:\n",
    "    print(\"N không là số chính phương\")  "
   ]
  },
  {
   "cell_type": "code",
   "execution_count": 6,
   "id": "3d9f5938",
   "metadata": {},
   "outputs": [
    {
     "name": "stdout",
     "output_type": "stream",
     "text": [
      "Nhập số N:7\n",
      "N là số nguyên tố\n"
     ]
    }
   ],
   "source": [
    "def checkSNT(a):\n",
    "    if any(a%i == 0 for i in range(2,a)):\n",
    "        return 0\n",
    "    return 1\n",
    "     \n",
    "n = int(input(\"Nhập số N:\"))\n",
    "if checkSNT(n)==1:\n",
    "    print(\"N là số nguyên tố\")\n",
    "else:\n",
    "    print(\"N không là số nguyên tố\")"
   ]
  },
  {
   "cell_type": "code",
   "execution_count": 10,
   "id": "31535357",
   "metadata": {},
   "outputs": [
    {
     "name": "stdout",
     "output_type": "stream",
     "text": [
      "Nhập số N:5\n",
      "Tích các số lẻ:  15\n"
     ]
    }
   ],
   "source": [
    "def volOddNumber(n):\n",
    "    rs = 1\n",
    "    for i in range(1,n+1,2):\n",
    "        rs = rs*i\n",
    "    return rs\n",
    "\n",
    "n = int(input(\"Nhập số N:\"))\n",
    "print(\"Tích các số lẻ: \",volOddNumber(n))"
   ]
  },
  {
   "cell_type": "code",
   "execution_count": 15,
   "id": "c068926a",
   "metadata": {},
   "outputs": [
    {
     "name": "stdout",
     "output_type": "stream",
     "text": [
      "Nhập số N: 6\n",
      "Tổng các số nguyên tố nhỏ hơn N:  10\n"
     ]
    }
   ],
   "source": [
    "def checkSNT(a):\n",
    "    if any(a%i == 0 for i in range(2,a)):\n",
    "        return 0\n",
    "    return 1\n",
    "\n",
    "\n",
    "def SumPrimeNumbers(a):\n",
    "    rs = 0\n",
    "    for i in range (2,a+1):\n",
    "        if checkSNT(i) == 1:\n",
    "            rs = rs + i\n",
    "    return rs\n",
    "\n",
    "n = int(input(\"Nhập số N: \"))\n",
    "print(\"Tổng các số nguyên tố nhỏ hơn N: \", SumPrimeNumbers(n))"
   ]
  },
  {
   "cell_type": "code",
   "execution_count": 16,
   "id": "11957330",
   "metadata": {},
   "outputs": [
    {
     "name": "stdout",
     "output_type": "stream",
     "text": [
      "Nhập số N: 6\n",
      "Tổng các số nguyên tố nhỏ hơn N:  4\n"
     ]
    }
   ],
   "source": [
    "def checkSCP(a):\n",
    "    flag = 0\n",
    "    if any(i**2 == a for i in range(a+1)):\n",
    "        flag = 1\n",
    "    return flag\n",
    "\n",
    "\n",
    "def SumCPNumbers(a):\n",
    "    rs = 0\n",
    "    for i in range (2,a+1):\n",
    "        if checkSCP(i) == 1:\n",
    "            rs = rs + i\n",
    "    return rs\n",
    "\n",
    "n = int(input(\"Nhập số N: \"))\n",
    "print(\"Tổng các số nguyên tố nhỏ hơn N: \", SumCPNumbers(n))"
   ]
  },
  {
   "cell_type": "code",
   "execution_count": 17,
   "id": "0435c9cd",
   "metadata": {},
   "outputs": [
    {
     "name": "stdout",
     "output_type": "stream",
     "text": [
      "Nhập số N: 5\n",
      "Tổng các ước số dương của N 6\n"
     ]
    }
   ],
   "source": [
    "def sumAllUS(a):\n",
    "    rs = 0\n",
    "    for i in range(1, a + 1):\n",
    "        if n % i == 0:\n",
    "            rs = rs + i\n",
    "    return rs\n",
    "\n",
    "n = int(input(\"Nhập số N: \"))\n",
    "print(\"Tổng các ước số dương của N\", sumAllUS(n))"
   ]
  },
  {
   "cell_type": "markdown",
   "id": "a4e33686",
   "metadata": {},
   "source": [
    "# Bài 53. Nhập số nguyên dương n và viết các phương thức sau:\n",
    "# a) S=1+2+3+...+N\n",
    "# b) S = 12 + 22 + 32 + ... + n2\n",
    "# c) S= 1 + 1/2 + 1/3 + ... + 1/n\n",
    "# d) S= 1! + 2! + 3! + ... + n!\n",
    "# e) S = 1*2*3*...*n"
   ]
  },
  {
   "cell_type": "code",
   "execution_count": 1,
   "id": "8b18476c",
   "metadata": {},
   "outputs": [
    {
     "name": "stdout",
     "output_type": "stream",
     "text": [
      "Nhập n:3\n",
      "S =  6\n"
     ]
    }
   ],
   "source": [
    "def sumAllNum(n):\n",
    "    rs=0\n",
    "    for i in range(1,n+1):\n",
    "        rs = rs + i\n",
    "    return rs\n",
    "\n",
    "n = int(input(\"Nhập n:\"))\n",
    "print(\"S = \",sumAllNum(n))"
   ]
  },
  {
   "cell_type": "code",
   "execution_count": 2,
   "id": "07e1945d",
   "metadata": {},
   "outputs": [
    {
     "name": "stdout",
     "output_type": "stream",
     "text": [
      "Nhập n:2\n",
      "S =  34\n"
     ]
    }
   ],
   "source": [
    "def sumAllNum(n):\n",
    "    rs=0\n",
    "    for i in range(1,n+1):\n",
    "        rs = rs + i*10 + 2\n",
    "    return rs\n",
    "\n",
    "n = int(input(\"Nhập n:\"))\n",
    "print(\"S = \",sumAllNum(n)) "
   ]
  },
  {
   "cell_type": "code",
   "execution_count": 3,
   "id": "1b07a3b1",
   "metadata": {},
   "outputs": [
    {
     "name": "stdout",
     "output_type": "stream",
     "text": [
      "Nhập n:2\n",
      "S =  1.5\n"
     ]
    }
   ],
   "source": [
    "def sumAllNum(n):\n",
    "    rs=0\n",
    "    for i in range(1,n+1):\n",
    "        rs = rs + 1/i\n",
    "    return rs\n",
    "\n",
    "n = int(input(\"Nhập n:\"))\n",
    "print(\"S = \",sumAllNum(n))"
   ]
  },
  {
   "cell_type": "code",
   "execution_count": 5,
   "id": "e0085553",
   "metadata": {},
   "outputs": [
    {
     "name": "stdout",
     "output_type": "stream",
     "text": [
      "Nhập n:3\n",
      "S =  8\n"
     ]
    }
   ],
   "source": [
    "def giaithua(n):\n",
    "    return n*(n-1)\n",
    "\n",
    "def sumAllNum(n):\n",
    "    rs=0\n",
    "    for i in range(1,n+1):\n",
    "        rs = rs + giaithua(i)\n",
    "    return rs\n",
    "\n",
    "n = int(input(\"Nhập n:\"))\n",
    "print(\"S = \",sumAllNum(n))"
   ]
  },
  {
   "cell_type": "code",
   "execution_count": 6,
   "id": "0fbaef8e",
   "metadata": {},
   "outputs": [
    {
     "name": "stdout",
     "output_type": "stream",
     "text": [
      "Nhập n:3\n",
      "S =  6\n"
     ]
    }
   ],
   "source": [
    "def sumAllNum(n):\n",
    "    rs=1\n",
    "    for i in range(1,n+1):\n",
    "        rs = rs*i\n",
    "    return rs\n",
    "\n",
    "n = int(input(\"Nhập n:\"))\n",
    "print(\"S = \",sumAllNum(n))"
   ]
  },
  {
   "cell_type": "markdown",
   "id": "5da74ff7",
   "metadata": {},
   "source": [
    "# Bài54. Viết phương thức in ra n phần tử dãy fibonacy"
   ]
  },
  {
   "cell_type": "code",
   "execution_count": 8,
   "id": "55b16928",
   "metadata": {},
   "outputs": [
    {
     "name": "stdout",
     "output_type": "stream",
     "text": [
      "Nhập N: 9\n",
      "1 \n",
      "2 \n",
      "3 \n",
      "5 \n",
      "8 \n"
     ]
    }
   ],
   "source": [
    "\n",
    "def isPerfectSquare(x):\n",
    "    s = int(math.pow(x,1/2))\n",
    "    return s*s == x\n",
    " \n",
    "def isFibonacci(n):\n",
    "    return isPerfectSquare(5*n*n + 4) or isPerfectSquare(5*n*n - 4)\n",
    "\n",
    "n = int(input(\"Nhập N: \"))\n",
    "for i in range(1,n+1):\n",
    "    if(isFibonacci(i)==True):\n",
    "        print(i,\"\")"
   ]
  },
  {
   "cell_type": "markdown",
   "id": "6f352d83",
   "metadata": {},
   "source": [
    "# Bài 55. Viết phương thức tính chu vi và diện tích hình chữ nhật khi biết độ dài của 2 cạnh. Sau đó vẽ hình chữ nhật ra màn hình bằng các dấu *. Phương thức tính chu vi, diện tích, phương thức vẽ hình chữ nhật tách biệt nhau"
   ]
  },
  {
   "cell_type": "code",
   "execution_count": 17,
   "id": "8eac8929",
   "metadata": {},
   "outputs": [
    {
     "name": "stdout",
     "output_type": "stream",
     "text": [
      "Chu vi hình chữ nhật dài 5, rộng 4:  18\n",
      "Diện tích hình chữ nhật dài 5, rộng 4:  20\n",
      "-----------------------\n",
      "Vẽ hình chữ nhật:\n",
      "****\n",
      "*  *\n",
      "*  *\n",
      "*  *\n",
      "****\n"
     ]
    }
   ],
   "source": [
    "import turtle\n",
    "\n",
    "def P(a,b):\n",
    "    return (a+b)*2\n",
    "\n",
    "def S(a,b):\n",
    "    return a*b\n",
    "\n",
    "def draw(a,b):\n",
    "    for i in range(a):\n",
    "        for j in range(b):\n",
    "            print('*' if i in [0, a-1] or j in [0, b-1] else ' ', end='')\n",
    "        print()\n",
    "            \n",
    "a = 5\n",
    "b = 4\n",
    "print(\"Chu vi hình chữ nhật dài 5, rộng 4: \",P(5,4))\n",
    "print(\"Diện tích hình chữ nhật dài 5, rộng 4: \",S(5,4))\n",
    "print(\"-----------------------\")\n",
    "print(\"Vẽ hình chữ nhật:\")\n",
    "draw(a,b)"
   ]
  },
  {
   "cell_type": "code",
   "execution_count": null,
   "id": "f0e655f7",
   "metadata": {},
   "outputs": [],
   "source": []
  }
 ],
 "metadata": {
  "kernelspec": {
   "display_name": "Python 3 (ipykernel)",
   "language": "python",
   "name": "python3"
  },
  "language_info": {
   "codemirror_mode": {
    "name": "ipython",
    "version": 3
   },
   "file_extension": ".py",
   "mimetype": "text/x-python",
   "name": "python",
   "nbconvert_exporter": "python",
   "pygments_lexer": "ipython3",
   "version": "3.9.13"
  }
 },
 "nbformat": 4,
 "nbformat_minor": 5
}
